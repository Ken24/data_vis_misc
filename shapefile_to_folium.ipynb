{
 "cells": [
  {
   "cell_type": "markdown",
   "metadata": {},
   "source": [
    "# Visualization of Land Info\n",
    "\n",
    "Using Ministry of Land, Infrastructure, Transport and Tourism, Japan.\n",
    "\n",
    "Special Thanks\n",
    "* http://qiita.com/shima_x/items/fe29274d67de3a461524\n",
    "* http://sinhrks.hatenablog.com/entry/2015/06/14/215514"
   ]
  },
  {
   "cell_type": "markdown",
   "metadata": {},
   "source": [
    "## logger"
   ]
  },
  {
   "cell_type": "code",
   "execution_count": 1,
   "metadata": {
    "collapsed": false
   },
   "outputs": [],
   "source": [
    "from logging import getLogger, StreamHandler, INFO, NullHandler\n",
    "logger = getLogger(__name__)\n",
    "# handler = StreamHandler()\n",
    "handler = NullHandler()\n",
    "handler.setLevel(INFO)\n",
    "logger.setLevel(INFO)\n",
    "logger.addHandler(handler)\n",
    "\n",
    "logger.debug('hello')"
   ]
  },
  {
   "cell_type": "code",
   "execution_count": 2,
   "metadata": {
    "collapsed": true
   },
   "outputs": [],
   "source": [
    "import os\n",
    "import osgeo.ogr\n",
    "import shapefile\n",
    "import json\n",
    "from json import dumps\n",
    "from IPython.display import HTML\n",
    "import folium\n",
    "import pandas as pd\n",
    "import numpy as np\n",
    "\n",
    "oita_webland_data_dir = \"./webland_oita/\"\n",
    "input_shape_file = \"./N03-20150101_44_GML/N03-15_44_150101.shp\"\n",
    "intermediate_geojson_file = \"./oita-geo.json\""
   ]
  },
  {
   "cell_type": "markdown",
   "metadata": {
    "collapsed": true
   },
   "source": [
    "## shapefile to geojson"
   ]
  },
  {
   "cell_type": "markdown",
   "metadata": {},
   "source": [
    "Convert a shapefile to a dict variable for the purpose of making a geojson file."
   ]
  },
  {
   "cell_type": "code",
   "execution_count": 3,
   "metadata": {
    "collapsed": false,
    "scrolled": false
   },
   "outputs": [],
   "source": [
    "shape_reader = shapefile.Reader(input_shape_file)\n",
    "\n",
    "# extract field names\n",
    "fields = shape_reader.fields[1:]\n",
    "field_names = [field[0] for field in fields]\n",
    "\n",
    "out_buffer = []\n",
    "for sr in shape_reader.shapeRecords():\n",
    "    atr = dict(zip(field_names, sr.record))\n",
    "    geom = sr.shape.__geo_interface__\n",
    "    out_buffer.append(dict(type=\"Feature\",\n",
    "                       geometry=geom, properties=atr))"
   ]
  },
  {
   "cell_type": "markdown",
   "metadata": {},
   "source": [
    "Convert multi-byte strings to those of utf-8, because multi-byte strings are recognized as bytes string type."
   ]
  },
  {
   "cell_type": "code",
   "execution_count": 4,
   "metadata": {
    "collapsed": false
   },
   "outputs": [],
   "source": [
    "for out_buffer_item in out_buffer:\n",
    "    for prop_key, prop_val in out_buffer_item[\"properties\"].items():\n",
    "        logger.debug(\"key: {}, value: {}\".format(prop_key, prop_val))        \n",
    "        if type(prop_val) == bytes:\n",
    "            logger.debug(\"str: {}\".format(prop_val.decode('shift-jis')))\n",
    "            out_buffer_item[\"properties\"][prop_key] = prop_val.decode('shift-jis')"
   ]
  },
  {
   "cell_type": "markdown",
   "metadata": {},
   "source": [
    "output to json"
   ]
  },
  {
   "cell_type": "code",
   "execution_count": 5,
   "metadata": {
    "collapsed": false
   },
   "outputs": [],
   "source": [
    "geojson_str = dumps({\"type\": \"FeatureCollection\",\n",
    "                     \"features\": out_buffer},\n",
    "                    sort_keys=True, ensure_ascii=False, indent=2)\n",
    "\n",
    "with open(intermediate_geojson_file, \"w\") as fh:\n",
    "    logger.debug(\"output type: {}\".format(type(geojson_str)))\n",
    "    fh.write(geojson_str)"
   ]
  },
  {
   "cell_type": "markdown",
   "metadata": {
    "collapsed": true
   },
   "source": [
    "## folium\n",
    "### Trial Plot"
   ]
  },
  {
   "cell_type": "markdown",
   "metadata": {},
   "source": [
    "inline visualization function for ipython notebook"
   ]
  },
  {
   "cell_type": "code",
   "execution_count": 6,
   "metadata": {
    "collapsed": true
   },
   "outputs": [],
   "source": [
    "# folium.initialize_notebook()  # is not available at 2015/11/07\n",
    "\n",
    "def inline_map(m, out_html_str='tmp.html'):\n",
    "    # thanks to http://sinhrks.hatenablog.com/entry/2015/06/14/215514\n",
    "    m.create_map(path=out_html_str)\n",
    "    iframe = '<iframe srcdoc=\\\"{srcdoc}\\\" style=\\\"width: 100%; height: 400px; border: none\\\"></iframe>'\n",
    "    return HTML(iframe.format(srcdoc=m.HTML.replace('\\\"', '&quot;')))"
   ]
  },
  {
   "cell_type": "code",
   "execution_count": 7,
   "metadata": {
    "collapsed": false
   },
   "outputs": [
    {
     "data": {
      "text/html": [
       "<iframe srcdoc=\"<!DOCTYPE html>\n",
       "<head>\n",
       "   <meta http-equiv=&quot;content-type&quot; content=&quot;text/html; charset=UTF-8&quot; />\n",
       "   <link rel=&quot;stylesheet&quot; href=&quot;https://cdnjs.cloudflare.com/ajax/libs/leaflet/0.7.3/leaflet.css&quot; />\n",
       "   <script src=&quot;https://cdnjs.cloudflare.com/ajax/libs/leaflet/0.7.3/leaflet.js&quot;></script>\n",
       "\n",
       "   <script src=&quot;https://ajax.googleapis.com/ajax/libs/jquery/1.11.1/jquery.min.js&quot;></script>\n",
       "\n",
       "   <link rel=&quot;stylesheet&quot; href=&quot;https://maxcdn.bootstrapcdn.com/bootstrap/3.2.0/css/bootstrap.min.css&quot;>\n",
       "   <link rel=&quot;stylesheet&quot; href=&quot;https://maxcdn.bootstrapcdn.com/bootstrap/3.2.0/css/bootstrap-theme.min.css&quot;>\n",
       "   <script src=&quot;https://maxcdn.bootstrapcdn.com/bootstrap/3.2.0/js/bootstrap.min.js&quot;></script>\n",
       "\n",
       "   <link href=&quot;https://maxcdn.bootstrapcdn.com/font-awesome/4.1.0/css/font-awesome.min.css&quot; rel=&quot;stylesheet&quot;>\n",
       "\n",
       "   <link rel=&quot;stylesheet&quot; href=&quot;https://rawgit.com/lvoogdt/Leaflet.awesome-markers/2.0/develop/dist/leaflet.awesome-markers.css&quot;>\n",
       "   <script src=&quot;https://rawgithub.com/lvoogdt/Leaflet.awesome-markers/2.0/develop/dist/leaflet.awesome-markers.js&quot;></script>\n",
       "\n",
       "\n",
       "   <link rel=&quot;stylesheet&quot; href=&quot;https://cdnjs.cloudflare.com/ajax/libs/leaflet.markercluster/0.4.0/MarkerCluster.Default.css&quot;>\n",
       "   <link rel=&quot;stylesheet&quot; href=&quot;https://cdnjs.cloudflare.com/ajax/libs/leaflet.markercluster/0.4.0/MarkerCluster.css&quot;>\n",
       "   <script src=&quot;https://cdnjs.cloudflare.com/ajax/libs/leaflet.markercluster/0.4.0/leaflet.markercluster-src.js&quot;></script>\n",
       "   <script src=&quot;https://cdnjs.cloudflare.com/ajax/libs/leaflet.markercluster/0.4.0/leaflet.markercluster.js&quot;></script>\n",
       "\n",
       "   <link rel=&quot;stylesheet&quot; href=&quot;https://birdage.github.io/Leaflet.awesome-markers/dist/leaflet.awesome.rotate.css&quot;>\n",
       "\n",
       "   \n",
       "   \n",
       "   \n",
       "   \n",
       "\n",
       "   <style>\n",
       "\n",
       "      html, body {\n",
       "        width: 100%;\n",
       "        height: 100%;\n",
       "        margin: 0;\n",
       "        padding: 0;\n",
       "      }\n",
       "\n",
       "      #map {\n",
       "        position:absolute;\n",
       "        top:0;\n",
       "        bottom:0;\n",
       "        right:0;\n",
       "        left:0;\n",
       "      }\n",
       "\n",
       "   </style>\n",
       "</head>\n",
       "\n",
       "<body>\n",
       "\n",
       "   <div class=&quot;folium-map&quot; id=&quot;folium_ab0576f5fb974420953d33ec8809f614&quot; style=&quot;width: 100%; height: 100%&quot;></div>\n",
       "\n",
       "   <script>\n",
       "\n",
       "      \n",
       "\n",
       "      var base_tile = L.tileLayer('https://{s}.tile.openstreetmap.org/{z}/{x}/{y}.png', {\n",
       "          maxZoom: 18,\n",
       "          minZoom: 1,\n",
       "          attribution: 'Map data (c) <a href=&quot;http://openstreetmap.org&quot;>OpenStreetMap</a> contributors'\n",
       "      });\n",
       "\n",
       "      var baseLayer = {\n",
       "        &quot;Base Layer&quot;: base_tile\n",
       "      };\n",
       "\n",
       "      /*\n",
       "      addition of the wms layers\n",
       "      */\n",
       "\n",
       "      \n",
       "\n",
       "      /*\n",
       "      addition of the tile layers\n",
       "      */\n",
       "      \n",
       "\n",
       "      /*\n",
       "      list of layers to be added\n",
       "      */\n",
       "      var layer_list = {\n",
       "      \n",
       "      };\n",
       "\n",
       "      /*\n",
       "      Bounding box.\n",
       "      */\n",
       "      var southWest = L.latLng(-90, -180),\n",
       "          northEast = L.latLng(90, 180),\n",
       "          bounds = L.latLngBounds(southWest, northEast);\n",
       "\n",
       "      /*\n",
       "      Creates the map and adds the selected layers\n",
       "      */\n",
       "      var map = L.map('folium_ab0576f5fb974420953d33ec8809f614', {\n",
       "                                       center:[33.2382026, 131.612535],\n",
       "                                       zoom: 8,\n",
       "                                       maxBounds: bounds,\n",
       "                                       layers: [base_tile]\n",
       "                                     });\n",
       "\n",
       "      L.control.layers(baseLayer, layer_list).addTo(map);\n",
       "\n",
       "      //cluster group\n",
       "      var clusteredmarkers = L.markerClusterGroup();\n",
       "      //section for adding clustered markers\n",
       "      \n",
       "      //add the clustered markers to the group anyway\n",
       "      map.addLayer(clusteredmarkers);\n",
       "\n",
       "      \n",
       "      var marker_1_icon = L.AwesomeMarkers.icon({ icon: 'info-sign',markerColor: 'blue',prefix: 'glyphicon',extraClasses: 'fa-rotate-0'});\n",
       "      var marker_1 = L.marker([33.2382026, \n",
       "\t\t\t\t\t\t\t131.612535],\n",
       "\t\t\t\t\t\t\t{'icon':marker_1_icon}\n",
       "\t\t\t\t\t\t\t);\n",
       "      marker_1.bindPopup(&quot;Oita&quot;);\n",
       "      marker_1._popup.options.maxWidth = 300;\n",
       "      map.addLayer(marker_1)\n",
       "      \n",
       "\n",
       "      \n",
       "\n",
       "      \n",
       "\n",
       "      \n",
       "\n",
       "      \n",
       "\n",
       "      \n",
       "\n",
       "\n",
       "\n",
       "   </script>\n",
       "\n",
       "</body>\" style=\"width: 100%; height: 400px; border: none\"></iframe>"
      ],
      "text/plain": [
       "<IPython.core.display.HTML object>"
      ]
     },
     "execution_count": 7,
     "metadata": {},
     "output_type": "execute_result"
    }
   ],
   "source": [
    "m = folium.Map(location=[33.2382026, 131.612535], zoom_start=8)\n",
    "m.simple_marker([33.2382026, 131.612535], popup='Oita')\n",
    "\n",
    "inline_map(m, \"trial_oita.html\")\n",
    "\n",
    "# if folium.initialize_notebook() is available, then following scripts will work\n",
    "\n",
    "# m.create_map(\"trial_oita.html\")\n",
    "# m.render_iframe = True\n",
    "# m"
   ]
  },
  {
   "cell_type": "markdown",
   "metadata": {},
   "source": [
    "### input other (open) data via pandas "
   ]
  },
  {
   "cell_type": "markdown",
   "metadata": {},
   "source": [
    "importing csv files (Property price history, open data)"
   ]
  },
  {
   "cell_type": "code",
   "execution_count": 8,
   "metadata": {
    "collapsed": false
   },
   "outputs": [],
   "source": [
    "arr_df_webland_oita = []\n",
    "# find csv files and append to array\n",
    "for file in os.listdir(oita_webland_data_dir):\n",
    "    if file.endswith(\".csv\"):\n",
    "        df_tmp = pd.read_csv(oita_webland_data_dir+file,\n",
    "                             encoding=\"cp932\",\n",
    "                             index_col=0)\n",
    "        arr_df_webland_oita.append(df_tmp)\n",
    "\n",
    "df_webland_oita = pd.concat(arr_df_webland_oita, ignore_index=True)"
   ]
  },
  {
   "cell_type": "markdown",
   "metadata": {},
   "source": [
    "summarising by city_code (price per about 3.3 m^2)"
   ]
  },
  {
   "cell_type": "code",
   "execution_count": 9,
   "metadata": {
    "collapsed": false
   },
   "outputs": [],
   "source": [
    "df_oita_median_by_city = df_webland_oita.groupby(\"市区町村コード\").median()\n",
    "df_oita_median_by_city[\"city_code\"] = df_oita_median_by_city.index"
   ]
  },
  {
   "cell_type": "markdown",
   "metadata": {},
   "source": [
    "### using dataframe and geojson visualization"
   ]
  },
  {
   "cell_type": "code",
   "execution_count": 10,
   "metadata": {
    "collapsed": false,
    "scrolled": false
   },
   "outputs": [
    {
     "data": {
      "text/html": [
       "<iframe srcdoc=\"<!DOCTYPE html>\n",
       "<head>\n",
       "   <meta http-equiv=&quot;content-type&quot; content=&quot;text/html; charset=UTF-8&quot; />\n",
       "   <link rel=&quot;stylesheet&quot; href=&quot;https://cdnjs.cloudflare.com/ajax/libs/leaflet/0.7.3/leaflet.css&quot; />\n",
       "   <script src=&quot;https://cdnjs.cloudflare.com/ajax/libs/leaflet/0.7.3/leaflet.js&quot;></script>\n",
       "   <script src=&quot;https://cdnjs.cloudflare.com/ajax/libs/d3/3.5.5/d3.min.js&quot; charset=&quot;utf-8&quot;></script>\n",
       "   <script src=&quot;https://cdnjs.cloudflare.com/ajax/libs/queue-async/1.0.7/queue.min.js&quot;></script>\n",
       "\n",
       "   \n",
       "   \n",
       "   \n",
       "   \n",
       "\n",
       "   <style>\n",
       "\n",
       "      html, body {\n",
       "        width: 100%;\n",
       "        height: 100%;\n",
       "        margin: 0;\n",
       "        padding: 0;\n",
       "      }\n",
       "\n",
       "      .legend {\n",
       "          padding: 0px 0px;\n",
       "          font: 10px sans-serif;\n",
       "          background: white;\n",
       "          background: rgba(255,255,255,0.8);\n",
       "          box-shadow: 0 0 15px rgba(0,0,0,0.2);\n",
       "          border-radius: 5px;\n",
       "      }\n",
       "\n",
       "      .key path {\n",
       "        display: none;\n",
       "      }\n",
       "\n",
       "   </style>\n",
       "</head>\n",
       "\n",
       "<body>\n",
       "\n",
       "   <div id=&quot;map&quot; style=&quot;width: 100%; height: 100%&quot;></div>\n",
       "\n",
       "   <script>\n",
       "\n",
       "      queue()\n",
       "          .defer(d3.json, 'data.json')\n",
       "          .defer(d3.json, './oita-geo.json')\n",
       "          .await(makeMap)\n",
       "\n",
       "      function onEachFeature(feature, layer) {\n",
       "          // does this feature have a property named popupContent?\n",
       "          if (feature.properties && feature.properties.popupContent) {\n",
       "              layer.bindPopup(feature.properties.popupContent);\n",
       "              }\n",
       "          };\n",
       "\n",
       "      function makeMap(error, data_1,gjson_1) {\n",
       "\n",
       "          \n",
       "\n",
       "          \n",
       "\n",
       "          function matchKey(datapoint, key_variable){\n",
       "              if (typeof key_variable[0][datapoint] === 'undefined') {\n",
       "                  return null;\n",
       "              }\n",
       "              else {\n",
       "                  return parseFloat(key_variable[0][datapoint]);\n",
       "              };\n",
       "          };\n",
       "\n",
       "          \n",
       "          var color = d3.scale.threshold()\n",
       "              .domain([3000, 9000, 15000, 24000, 30000])\n",
       "              .range(['#EDF8FB', '#BFD3E6', '#9EBCDA', '#8C96C6', '#8C6BB1', '#88419D']);\n",
       "          \n",
       "\n",
       "          var map = L.map('map').setView([33.2382026, 131.612535], 8);\n",
       "\n",
       "          L.tileLayer('https://{s}.tile.openstreetmap.org/{z}/{x}/{y}.png', {\n",
       "              maxZoom: 18,\n",
       "              minZoom: 1,\n",
       "              attribution: 'Map data (c) <a href=&quot;http://openstreetmap.org&quot;>OpenStreetMap</a> contributors'\n",
       "          }).addTo(map);\n",
       "\n",
       "          \n",
       "          function style_1(feature) {\n",
       "    return {\n",
       "        fillColor: color(matchKey(feature.properties.N03_007, data_1)),\n",
       "        weight: 1,\n",
       "        opacity: 1,\n",
       "        color: 'black',\n",
       "        fillOpacity: 0.6\n",
       "    };\n",
       "}\n",
       "          \n",
       "\n",
       "          \n",
       "          gJson_layer_1 = L.geoJson(gjson_1, {style: style_1,onEachFeature: onEachFeature}).addTo(map)\n",
       "          \n",
       "\n",
       "          \n",
       "              var legend = L.control({position: 'topright'});\n",
       "\n",
       "    legend.onAdd = function (map) {var div = L.DomUtil.create('div', 'legend'); return div};\n",
       "\n",
       "    legend.addTo(map);\n",
       "\n",
       "    var x = d3.scale.linear()\n",
       "    .domain([0, 33000])\n",
       "    .range([0, 400]);\n",
       "\n",
       "    var xAxis = d3.svg.axis()\n",
       "        .scale(x)\n",
       "        .orient(&quot;top&quot;)\n",
       "        .tickSize(1)\n",
       "        .tickValues([3000, 9000, 15000, 24000, 30000]);\n",
       "\n",
       "    var svg = d3.select(&quot;.legend.leaflet-control&quot;).append(&quot;svg&quot;)\n",
       "        .attr(&quot;id&quot;, 'legend')\n",
       "        .attr(&quot;width&quot;, 450)\n",
       "        .attr(&quot;height&quot;, 40);\n",
       "\n",
       "    var g = svg.append(&quot;g&quot;)\n",
       "        .attr(&quot;class&quot;, &quot;key&quot;)\n",
       "        .attr(&quot;transform&quot;, &quot;translate(25,16)&quot;);\n",
       "\n",
       "    g.selectAll(&quot;rect&quot;)\n",
       "        .data(color.range().map(function(d, i) {\n",
       "          return {\n",
       "            x0: i ? x(color.domain()[i - 1]) : x.range()[0],\n",
       "            x1: i < color.domain().length ? x(color.domain()[i]) : x.range()[1],\n",
       "            z: d\n",
       "          };\n",
       "        }))\n",
       "      .enter().append(&quot;rect&quot;)\n",
       "        .attr(&quot;height&quot;, 10)\n",
       "        .attr(&quot;x&quot;, function(d) { return d.x0; })\n",
       "        .attr(&quot;width&quot;, function(d) { return d.x1 - d.x0; })\n",
       "        .style(&quot;fill&quot;, function(d) { return d.z; });\n",
       "\n",
       "    g.call(xAxis).append(&quot;text&quot;)\n",
       "        .attr(&quot;class&quot;, &quot;caption&quot;)\n",
       "        .attr(&quot;y&quot;, 21)\n",
       "        .text('price_per_area');\n",
       "          \n",
       "\n",
       "          \n",
       "\n",
       "          \n",
       "\n",
       "          \n",
       "\n",
       "          \n",
       "\n",
       "          \n",
       "\n",
       "          \n",
       "\n",
       "      };\n",
       "\n",
       "   </script>\n",
       "</body>\" style=\"width: 100%; height: 400px; border: none\"></iframe>"
      ],
      "text/plain": [
       "<IPython.core.display.HTML object>"
      ]
     },
     "execution_count": 10,
     "metadata": {},
     "output_type": "execute_result"
    }
   ],
   "source": [
    "m = folium.Map(location=[33.2382026, 131.612535], zoom_start=8)\n",
    "m.geo_json(geo_path=intermediate_geojson_file, data=df_oita_median_by_city,\n",
    "    columns=['city_code', '取引価格（㎡単価）'],\n",
    "    key_on='feature.properties.N03_007',\n",
    "    threshold_scale=[3000, 9000, 15000, 24000, 30000],\n",
    "    fill_color='BuPu', reset=True,\n",
    "    legend_name='price_per_area')\n",
    "\n",
    "inline_map(m)"
   ]
  },
  {
   "cell_type": "code",
   "execution_count": null,
   "metadata": {
    "collapsed": true
   },
   "outputs": [],
   "source": []
  }
 ],
 "metadata": {
  "kernelspec": {
   "display_name": "Python 3",
   "language": "python",
   "name": "python3"
  },
  "language_info": {
   "codemirror_mode": {
    "name": "ipython",
    "version": 3
   },
   "file_extension": ".py",
   "mimetype": "text/x-python",
   "name": "python",
   "nbconvert_exporter": "python",
   "pygments_lexer": "ipython3",
   "version": "3.4.3"
  }
 },
 "nbformat": 4,
 "nbformat_minor": 0
}
