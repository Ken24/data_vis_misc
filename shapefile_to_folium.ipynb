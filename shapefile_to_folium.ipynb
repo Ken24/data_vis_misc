{
 "cells": [
  {
   "cell_type": "markdown",
   "metadata": {},
   "source": [
    "# 国土情報サービスなどの可視化\n",
    "* 参考にしたページ\n",
    "    * http://qiita.com/shima_x/items/fe29274d67de3a461524\n",
    "    * http://sinhrks.hatenablog.com/entry/2015/06/14/215514\n",
    "* 動作環境\n",
    "    * anaconda3-4.0.0 を利用。他の anaconda のバージョンでも動作するはず。\n",
    "    * gdal\n",
    "      \n",
    "      OSX の場合、OpenMP が標準の `gcc` に付属していないので、brew で入れる。\n",
    "      ```\n",
    "      brew install gdal  # version 1.11 when i installed it\n",
    "      pip install gdal==1.11  # same as above\n",
    "      ```\n",
    "    *  その他のライブラリ\n",
    "      ```\n",
    "      pip install pyshp nkf\n",
    "      pip install follium\n",
    "      pip install seaborn  # Graph Visualization\n",
    "      ```"
   ]
  },
  {
   "cell_type": "markdown",
   "metadata": {},
   "source": [
    "## logger"
   ]
  },
  {
   "cell_type": "code",
   "execution_count": 8,
   "metadata": {
    "collapsed": false
   },
   "outputs": [],
   "source": [
    "from logging import getLogger, StreamHandler, INFO, NullHandler\n",
    "logger = getLogger(__name__)\n",
    "# handler = StreamHandler()\n",
    "handler = NullHandler()\n",
    "handler.setLevel(INFO)\n",
    "logger.setLevel(INFO)\n",
    "logger.addHandler(handler)\n",
    "\n",
    "logger.debug('hello')"
   ]
  },
  {
   "cell_type": "markdown",
   "metadata": {
    "collapsed": true
   },
   "source": [
    "## shapefile to geojson\n",
    "http://nlftp.mlit.go.jp/ksj/ から区画用の shapefile を取得しておく。\n",
    "ここでは大分県の区画を利用している。"
   ]
  },
  {
   "cell_type": "code",
   "execution_count": 40,
   "metadata": {
    "collapsed": false,
    "scrolled": true
   },
   "outputs": [],
   "source": [
    "import os\n",
    "import osgeo.ogr\n",
    "import shapefile\n",
    "import nkf\n",
    "import json\n",
    "from json import dumps\n",
    "\n",
    "input_shape_file = \"./N03-20150101_44_GML/N03-15_44_150101.shp\"\n",
    "intermediate_geojson_file = \"./pyshp-oita-f02.json\""
   ]
  },
  {
   "cell_type": "markdown",
   "metadata": {},
   "source": [
    "json 用に dict 型にする"
   ]
  },
  {
   "cell_type": "code",
   "execution_count": 41,
   "metadata": {
    "collapsed": false,
    "scrolled": false
   },
   "outputs": [],
   "source": [
    "shape_reader = shapefile.Reader(input_shape_file)\n",
    "\n",
    "# extract field names\n",
    "fields = shape_reader.fields[1:]\n",
    "field_names = [field[0] for field in fields]\n",
    "\n",
    "out_buffer = []\n",
    "for sr in shape_reader.shapeRecords():\n",
    "    atr = dict(zip(field_names, sr.record))\n",
    "    geom = sr.shape.__geo_interface__\n",
    "    out_buffer.append(dict(type=\"Feature\",\n",
    "                       geometry=geom, properties=atr))"
   ]
  },
  {
   "cell_type": "markdown",
   "metadata": {},
   "source": [
    "フィールド名に日本語があると、shift_jis のバイナリ文字列として認識してまうので utf-8 に変換する。"
   ]
  },
  {
   "cell_type": "code",
   "execution_count": 42,
   "metadata": {
    "collapsed": false
   },
   "outputs": [],
   "source": [
    "for out_buffer_item in out_buffer:\n",
    "    for prop_key, prop_val in out_buffer_item[\"properties\"].items():\n",
    "        logger.debug(\"key: {}, value: {}\".format(prop_key, prop_val))        \n",
    "        if type(prop_val) == bytes:\n",
    "            logger.debug(\"str: {}\".format(prop_val.decode('shift-jis')))\n",
    "            out_buffer_item[\"properties\"][prop_key] = prop_val.decode('shift-jis')\n",
    "        if prop_key == \"N03_007\":\n",
    "            logger.debug(\"Value of Key N03_007 change to {}\".format(\"M{}\".format(prop_val)))\n",
    "            out_buffer_item[\"properties\"][prop_key]= \"M{}\".format(prop_val)"
   ]
  },
  {
   "cell_type": "markdown",
   "metadata": {},
   "source": [
    "json ファイルとして吐き出す"
   ]
  },
  {
   "cell_type": "code",
   "execution_count": 43,
   "metadata": {
    "collapsed": false
   },
   "outputs": [],
   "source": [
    "geojson_str = dumps({\"type\": \"FeatureCollection\",\n",
    "                     \"features\": out_buffer},\n",
    "                    sort_keys=True, ensure_ascii=False, indent=2)\n",
    "\n",
    "with open(intermediate_geojson_file, \"w\") as fh:\n",
    "    logger.debug(\"output type: {}\".format(type(geojson_str)))\n",
    "    fh.write(geojson_str)"
   ]
  },
  {
   "cell_type": "markdown",
   "metadata": {
    "collapsed": true
   },
   "source": [
    "## Visualization via folium"
   ]
  },
  {
   "cell_type": "code",
   "execution_count": 77,
   "metadata": {
    "collapsed": false
   },
   "outputs": [],
   "source": [
    "from IPython.display import HTML\n",
    "import folium\n",
    "import gdal\n",
    "import urllib\n",
    "import time\n",
    "import pandas as pd\n",
    "import numpy as np\n",
    "import scipy as sp\n",
    "from numba import jit\n",
    "import seaborn\n",
    "import matplotlib.pyplot as plt\n",
    "\n",
    "%matplotlib inline"
   ]
  },
  {
   "cell_type": "markdown",
   "metadata": {},
   "source": [
    "ipython notebook に HTML を吐き出す関数は follium 0.2 から不要になりました。"
   ]
  },
  {
   "cell_type": "code",
   "execution_count": 45,
   "metadata": {
    "collapsed": true
   },
   "outputs": [],
   "source": [
    "# # folium.initialize_notebook()  # is not available\n",
    "\n",
    "# def inline_map(m, out_html_str='tmp.html'):\n",
    "#     # thanks to http://sinhrks.hatenablog.com/entry/2015/06/14/215514\n",
    "#     m.create_map(path='tmp.html')\n",
    "#     iframe = '<iframe srcdoc=\\\"{srcdoc}\\\" style=\\\"width: 100%; height: 400px; border: none\\\"></iframe>'\n",
    "#     return HTML(iframe.format(srcdoc=m.HTML.replace('\\\"', '&quot;')))"
   ]
  },
  {
   "cell_type": "markdown",
   "metadata": {},
   "source": [
    "とりあえず folium で HTML を履いてみる"
   ]
  },
  {
   "cell_type": "code",
   "execution_count": 46,
   "metadata": {
    "collapsed": false
   },
   "outputs": [
    {
     "name": "stderr",
     "output_type": "stream",
     "text": [
      "/usr/local/opt/pyenv/versions/anaconda3-4.0.0/lib/python3.5/site-packages/ipykernel/__main__.py:2: FutureWarning: simple_marker is deprecated. Use add_children(Marker) instead\n",
      "  from ipykernel import kernelapp as app\n"
     ]
    },
    {
     "data": {
      "text/html": [
       "<div style=\"width:100%;\"><div style=\"position:relative;width:100%;height:0;padding-bottom:60%;\"><iframe src=\"data:text/html;base64,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\" style=\"position:absolute;width:100%;height:100%;left:0;top:0;\"></iframe></div></div>"
      ],
      "text/plain": [
       "<folium.folium.Map at 0x11a52ac88>"
      ]
     },
     "execution_count": 46,
     "metadata": {},
     "output_type": "execute_result"
    }
   ],
   "source": [
    "m = folium.Map(location=[33.2382026, 131.612535], zoom_start=8)\n",
    "m.simple_marker([33.2382026, 131.612535], popup='Oita')\n",
    "\n",
    "# This code is available at follium 0.1.x\n",
    "# inline_map(m, \"trial_oita.html\")\n",
    "m\n"
   ]
  },
  {
   "cell_type": "markdown",
   "metadata": {},
   "source": [
    "### 地図を用いた可視化用にデータをとってくる\n",
    "http://www.land.mlit.go.jp/webland/download 当たりから大分県の不動産取引価格情報を取得"
   ]
  },
  {
   "cell_type": "code",
   "execution_count": 78,
   "metadata": {
    "collapsed": true
   },
   "outputs": [],
   "source": [
    "oita_webland_data_dir = \"./webland_oita/\""
   ]
  },
  {
   "cell_type": "markdown",
   "metadata": {},
   "source": [
    "### pandas で読み込む"
   ]
  },
  {
   "cell_type": "markdown",
   "metadata": {},
   "source": [
    "フォルダ配下すべての csv を読み込んで結合する。\n",
    "読み込むデータは不動産価格の取引情報（オープンデータ）"
   ]
  },
  {
   "cell_type": "code",
   "execution_count": 47,
   "metadata": {
    "collapsed": false
   },
   "outputs": [],
   "source": [
    "arr_df_webland_oita = []\n",
    "# find csv files and append to array\n",
    "for file in os.listdir(oita_webland_data_dir):\n",
    "    if file.endswith(\".csv\"):\n",
    "        df_tmp = pd.read_csv(oita_webland_data_dir+file,\n",
    "                             encoding=\"cp932\",\n",
    "                             index_col=0)\n",
    "        arr_df_webland_oita.append(df_tmp)\n",
    "\n",
    "#  all dataframes\n",
    "df_webland_oita = pd.concat(arr_df_webland_oita, ignore_index=True)"
   ]
  },
  {
   "cell_type": "code",
   "execution_count": 48,
   "metadata": {
    "collapsed": false,
    "scrolled": true
   },
   "outputs": [
    {
     "name": "stdout",
     "output_type": "stream",
     "text": [
      "<class 'pandas.core.frame.DataFrame'>\n",
      "Int64Index: 4285 entries, 0 to 4284\n",
      "Data columns (total 28 columns):\n",
      "種類            4285 non-null object\n",
      "地域            2609 non-null object\n",
      "市区町村コード       4285 non-null int64\n",
      "都道府県名         4285 non-null object\n",
      "市区町村名         4285 non-null object\n",
      "地区名           4260 non-null object\n",
      "最寄駅：名称        2886 non-null object\n",
      "最寄駅：距離（分）     2884 non-null object\n",
      "取引価格（総額）      4285 non-null int64\n",
      "坪単価           1582 non-null float64\n",
      "間取り           268 non-null object\n",
      "面積（㎡）         4285 non-null object\n",
      "取引価格（㎡単価）     1582 non-null float64\n",
      "土地の形状         2604 non-null object\n",
      "間口            2241 non-null object\n",
      "延床面積（㎡）       948 non-null object\n",
      "建築年           1129 non-null object\n",
      "建物の構造         1217 non-null object\n",
      "建物の用途         1217 non-null object\n",
      "今後の利用目的       439 non-null object\n",
      "前面道路：方位       2609 non-null object\n",
      "前面道路：種類       2515 non-null object\n",
      "前面道路：幅員（ｍ）    2419 non-null float64\n",
      "都市計画          2855 non-null object\n",
      "建ぺい率（％）       2451 non-null float64\n",
      "容積率（％）        2451 non-null float64\n",
      "取引時点          4285 non-null object\n",
      "備考            427 non-null object\n",
      "dtypes: float64(5), int64(2), object(21)\n",
      "memory usage: 970.8+ KB\n"
     ]
    }
   ],
   "source": [
    "df_webland_oita.info()"
   ]
  },
  {
   "cell_type": "code",
   "execution_count": 25,
   "metadata": {
    "collapsed": false,
    "scrolled": true
   },
   "outputs": [
    {
     "data": {
      "text/html": [
       "<div>\n",
       "<table border=\"1\" class=\"dataframe\">\n",
       "  <thead>\n",
       "    <tr style=\"text-align: right;\">\n",
       "      <th></th>\n",
       "      <th>種類</th>\n",
       "      <th>地域</th>\n",
       "      <th>市区町村コード</th>\n",
       "      <th>都道府県名</th>\n",
       "      <th>市区町村名</th>\n",
       "      <th>地区名</th>\n",
       "      <th>最寄駅：名称</th>\n",
       "      <th>最寄駅：距離（分）</th>\n",
       "      <th>取引価格（総額）</th>\n",
       "      <th>坪単価</th>\n",
       "      <th>...</th>\n",
       "      <th>建物の用途</th>\n",
       "      <th>今後の利用目的</th>\n",
       "      <th>前面道路：方位</th>\n",
       "      <th>前面道路：種類</th>\n",
       "      <th>前面道路：幅員（ｍ）</th>\n",
       "      <th>都市計画</th>\n",
       "      <th>建ぺい率（％）</th>\n",
       "      <th>容積率（％）</th>\n",
       "      <th>取引時点</th>\n",
       "      <th>備考</th>\n",
       "    </tr>\n",
       "  </thead>\n",
       "  <tbody>\n",
       "    <tr>\n",
       "      <th>0</th>\n",
       "      <td>宅地(土地)</td>\n",
       "      <td>工業地</td>\n",
       "      <td>44201</td>\n",
       "      <td>大分県</td>\n",
       "      <td>大分市</td>\n",
       "      <td>青崎</td>\n",
       "      <td>大在</td>\n",
       "      <td>30分～60分</td>\n",
       "      <td>30000000</td>\n",
       "      <td>62000.0</td>\n",
       "      <td>...</td>\n",
       "      <td>NaN</td>\n",
       "      <td>NaN</td>\n",
       "      <td>西</td>\n",
       "      <td>市道</td>\n",
       "      <td>16.0</td>\n",
       "      <td>準工業地域</td>\n",
       "      <td>60.0</td>\n",
       "      <td>200.0</td>\n",
       "      <td>平成25年第１四半期</td>\n",
       "      <td>NaN</td>\n",
       "    </tr>\n",
       "    <tr>\n",
       "      <th>1</th>\n",
       "      <td>宅地(土地と建物)</td>\n",
       "      <td>工業地</td>\n",
       "      <td>44201</td>\n",
       "      <td>大分県</td>\n",
       "      <td>大分市</td>\n",
       "      <td>青崎</td>\n",
       "      <td>大在</td>\n",
       "      <td>30分～60分</td>\n",
       "      <td>35000000</td>\n",
       "      <td>NaN</td>\n",
       "      <td>...</td>\n",
       "      <td>倉庫</td>\n",
       "      <td>NaN</td>\n",
       "      <td>南</td>\n",
       "      <td>市道</td>\n",
       "      <td>8.0</td>\n",
       "      <td>準工業地域</td>\n",
       "      <td>60.0</td>\n",
       "      <td>200.0</td>\n",
       "      <td>平成25年第１四半期</td>\n",
       "      <td>NaN</td>\n",
       "    </tr>\n",
       "    <tr>\n",
       "      <th>2</th>\n",
       "      <td>農地</td>\n",
       "      <td>NaN</td>\n",
       "      <td>44201</td>\n",
       "      <td>大分県</td>\n",
       "      <td>大分市</td>\n",
       "      <td>大字丹川</td>\n",
       "      <td>NaN</td>\n",
       "      <td>NaN</td>\n",
       "      <td>1000000</td>\n",
       "      <td>NaN</td>\n",
       "      <td>...</td>\n",
       "      <td>NaN</td>\n",
       "      <td>NaN</td>\n",
       "      <td>NaN</td>\n",
       "      <td>NaN</td>\n",
       "      <td>NaN</td>\n",
       "      <td>NaN</td>\n",
       "      <td>NaN</td>\n",
       "      <td>NaN</td>\n",
       "      <td>平成25年第１四半期</td>\n",
       "      <td>NaN</td>\n",
       "    </tr>\n",
       "    <tr>\n",
       "      <th>3</th>\n",
       "      <td>中古マンション等</td>\n",
       "      <td>NaN</td>\n",
       "      <td>44201</td>\n",
       "      <td>大分県</td>\n",
       "      <td>大分市</td>\n",
       "      <td>明野北</td>\n",
       "      <td>高城</td>\n",
       "      <td>30分～60分</td>\n",
       "      <td>9800000</td>\n",
       "      <td>NaN</td>\n",
       "      <td>...</td>\n",
       "      <td>住宅</td>\n",
       "      <td>NaN</td>\n",
       "      <td>NaN</td>\n",
       "      <td>NaN</td>\n",
       "      <td>NaN</td>\n",
       "      <td>第１種中高層住居専用地域</td>\n",
       "      <td>60.0</td>\n",
       "      <td>200.0</td>\n",
       "      <td>平成25年第１四半期</td>\n",
       "      <td>改装済を購入</td>\n",
       "    </tr>\n",
       "    <tr>\n",
       "      <th>4</th>\n",
       "      <td>中古マンション等</td>\n",
       "      <td>NaN</td>\n",
       "      <td>44201</td>\n",
       "      <td>大分県</td>\n",
       "      <td>大分市</td>\n",
       "      <td>明野北</td>\n",
       "      <td>高城</td>\n",
       "      <td>28</td>\n",
       "      <td>8400000</td>\n",
       "      <td>NaN</td>\n",
       "      <td>...</td>\n",
       "      <td>住宅</td>\n",
       "      <td>NaN</td>\n",
       "      <td>NaN</td>\n",
       "      <td>NaN</td>\n",
       "      <td>NaN</td>\n",
       "      <td>第１種中高層住居専用地域</td>\n",
       "      <td>60.0</td>\n",
       "      <td>200.0</td>\n",
       "      <td>平成25年第１四半期</td>\n",
       "      <td>未改装を購入</td>\n",
       "    </tr>\n",
       "  </tbody>\n",
       "</table>\n",
       "<p>5 rows × 28 columns</p>\n",
       "</div>"
      ],
      "text/plain": [
       "          種類   地域  市区町村コード 都道府県名 市区町村名   地区名 最寄駅：名称 最寄駅：距離（分）  取引価格（総額）  \\\n",
       "0     宅地(土地)  工業地    44201   大分県   大分市    青崎     大在   30分～60分  30000000   \n",
       "1  宅地(土地と建物)  工業地    44201   大分県   大分市    青崎     大在   30分～60分  35000000   \n",
       "2         農地  NaN    44201   大分県   大分市  大字丹川    NaN       NaN   1000000   \n",
       "3   中古マンション等  NaN    44201   大分県   大分市   明野北     高城   30分～60分   9800000   \n",
       "4   中古マンション等  NaN    44201   大分県   大分市   明野北     高城        28   8400000   \n",
       "\n",
       "       坪単価   ...   建物の用途 今後の利用目的  前面道路：方位 前面道路：種類 前面道路：幅員（ｍ）          都市計画  \\\n",
       "0  62000.0   ...     NaN     NaN        西      市道       16.0         準工業地域   \n",
       "1      NaN   ...      倉庫     NaN        南      市道        8.0         準工業地域   \n",
       "2      NaN   ...     NaN     NaN      NaN     NaN        NaN           NaN   \n",
       "3      NaN   ...      住宅     NaN      NaN     NaN        NaN  第１種中高層住居専用地域   \n",
       "4      NaN   ...      住宅     NaN      NaN     NaN        NaN  第１種中高層住居専用地域   \n",
       "\n",
       "  建ぺい率（％） 容積率（％）        取引時点      備考  \n",
       "0    60.0  200.0  平成25年第１四半期     NaN  \n",
       "1    60.0  200.0  平成25年第１四半期     NaN  \n",
       "2     NaN    NaN  平成25年第１四半期     NaN  \n",
       "3    60.0  200.0  平成25年第１四半期  改装済を購入  \n",
       "4    60.0  200.0  平成25年第１四半期  未改装を購入  \n",
       "\n",
       "[5 rows x 28 columns]"
      ]
     },
     "execution_count": 25,
     "metadata": {},
     "output_type": "execute_result"
    }
   ],
   "source": [
    "df_webland_oita.head()"
   ]
  },
  {
   "cell_type": "markdown",
   "metadata": {},
   "source": [
    "坪単価の列に何故か null 値があるので自分で計算する。"
   ]
  },
  {
   "cell_type": "code",
   "execution_count": 26,
   "metadata": {
    "collapsed": false,
    "scrolled": true
   },
   "outputs": [
    {
     "data": {
      "text/plain": [
       "5000㎡以上    210\n",
       "210        117\n",
       "2000㎡以上    109\n",
       "220        105\n",
       "200        102\n",
       "230        101\n",
       "250         79\n",
       "1100        74\n",
       "240         73\n",
       "270         65\n",
       "300         63\n",
       "1200        62\n",
       "280         60\n",
       "170         59\n",
       "330         56\n",
       "190         56\n",
       "260         56\n",
       "70          53\n",
       "180         52\n",
       "1000        52\n",
       "165         51\n",
       "360         49\n",
       "195         48\n",
       "290         48\n",
       "1300        48\n",
       "350         48\n",
       "80          47\n",
       "320         47\n",
       "175         47\n",
       "75          46\n",
       "          ... \n",
       "710          9\n",
       "3600         8\n",
       "970          8\n",
       "840          8\n",
       "2700         8\n",
       "930          8\n",
       "780          7\n",
       "3400         6\n",
       "4200         6\n",
       "950          6\n",
       "910          6\n",
       "4000         5\n",
       "870          5\n",
       "900          5\n",
       "3700         5\n",
       "4300         5\n",
       "960          5\n",
       "810          5\n",
       "3800         5\n",
       "4100         5\n",
       "4700         5\n",
       "3300         4\n",
       "4400         4\n",
       "4600         3\n",
       "3900         3\n",
       "4500         3\n",
       "3200         2\n",
       "4900         2\n",
       "4800         2\n",
       "15           1\n",
       "Name: 面積（㎡）, dtype: int64"
      ]
     },
     "execution_count": 26,
     "metadata": {},
     "output_type": "execute_result"
    }
   ],
   "source": [
    "pd.value_counts(df_webland_oita[\"面積（㎡）\"])"
   ]
  },
  {
   "cell_type": "code",
   "execution_count": 69,
   "metadata": {
    "collapsed": true
   },
   "outputs": [],
   "source": [
    "def calc_price_per_tsubo(price_arr_values, area_arr_values):\n",
    "    assert len(price_arr_values) == len(area_arr_values)\n",
    "    return_arr = np.zeros([len(price_arr_values), ], dtype=np.float64)\n",
    "    for i in range(len(price_arr_values)):\n",
    "        try:\n",
    "            float_area = float(area_arr_values[i])\n",
    "            float_price = float(price_arr_values[i])\n",
    "            return_arr[i] = float_price / (float_area * 0.3025)\n",
    "        except Exception as err:\n",
    "#             logger.debug(err)\n",
    "            return_arr[i] = np.nan\n",
    "    return return_arr"
   ]
  },
  {
   "cell_type": "code",
   "execution_count": 70,
   "metadata": {
    "collapsed": false,
    "scrolled": true
   },
   "outputs": [
    {
     "data": {
      "text/html": [
       "<div>\n",
       "<table border=\"1\" class=\"dataframe\">\n",
       "  <thead>\n",
       "    <tr style=\"text-align: right;\">\n",
       "      <th></th>\n",
       "      <th>市区町村コード</th>\n",
       "      <th>取引価格（総額）</th>\n",
       "      <th>坪単価</th>\n",
       "      <th>取引価格（㎡単価）</th>\n",
       "      <th>前面道路：幅員（ｍ）</th>\n",
       "      <th>建ぺい率（％）</th>\n",
       "      <th>容積率（％）</th>\n",
       "      <th>price_per_tsubo</th>\n",
       "    </tr>\n",
       "  </thead>\n",
       "  <tbody>\n",
       "    <tr>\n",
       "      <th>count</th>\n",
       "      <td>4285.000000</td>\n",
       "      <td>4.285000e+03</td>\n",
       "      <td>1582.000000</td>\n",
       "      <td>1582.000000</td>\n",
       "      <td>2419.000000</td>\n",
       "      <td>2451.000000</td>\n",
       "      <td>2451.000000</td>\n",
       "      <td>3.966000e+03</td>\n",
       "    </tr>\n",
       "    <tr>\n",
       "      <th>mean</th>\n",
       "      <td>44217.703617</td>\n",
       "      <td>1.240033e+07</td>\n",
       "      <td>97807.483565</td>\n",
       "      <td>29583.822377</td>\n",
       "      <td>6.868003</td>\n",
       "      <td>63.439412</td>\n",
       "      <td>221.664627</td>\n",
       "      <td>1.350673e+05</td>\n",
       "    </tr>\n",
       "    <tr>\n",
       "      <th>std</th>\n",
       "      <td>52.006009</td>\n",
       "      <td>4.280448e+07</td>\n",
       "      <td>89697.247046</td>\n",
       "      <td>27101.326648</td>\n",
       "      <td>4.785688</td>\n",
       "      <td>9.682843</td>\n",
       "      <td>91.241792</td>\n",
       "      <td>2.187002e+05</td>\n",
       "    </tr>\n",
       "    <tr>\n",
       "      <th>min</th>\n",
       "      <td>44201.000000</td>\n",
       "      <td>2.000000e+03</td>\n",
       "      <td>59.000000</td>\n",
       "      <td>18.000000</td>\n",
       "      <td>1.000000</td>\n",
       "      <td>30.000000</td>\n",
       "      <td>60.000000</td>\n",
       "      <td>1.180638e+01</td>\n",
       "    </tr>\n",
       "    <tr>\n",
       "      <th>25%</th>\n",
       "      <td>44201.000000</td>\n",
       "      <td>8.200000e+05</td>\n",
       "      <td>32000.000000</td>\n",
       "      <td>9550.000000</td>\n",
       "      <td>4.000000</td>\n",
       "      <td>60.000000</td>\n",
       "      <td>200.000000</td>\n",
       "      <td>4.314658e+03</td>\n",
       "    </tr>\n",
       "    <tr>\n",
       "      <th>50%</th>\n",
       "      <td>44204.000000</td>\n",
       "      <td>4.800000e+06</td>\n",
       "      <td>79000.000000</td>\n",
       "      <td>24000.000000</td>\n",
       "      <td>6.000000</td>\n",
       "      <td>60.000000</td>\n",
       "      <td>200.000000</td>\n",
       "      <td>6.019357e+04</td>\n",
       "    </tr>\n",
       "    <tr>\n",
       "      <th>75%</th>\n",
       "      <td>44210.000000</td>\n",
       "      <td>1.200000e+07</td>\n",
       "      <td>140000.000000</td>\n",
       "      <td>41000.000000</td>\n",
       "      <td>7.500000</td>\n",
       "      <td>70.000000</td>\n",
       "      <td>200.000000</td>\n",
       "      <td>1.731602e+05</td>\n",
       "    </tr>\n",
       "    <tr>\n",
       "      <th>max</th>\n",
       "      <td>44462.000000</td>\n",
       "      <td>1.100000e+09</td>\n",
       "      <td>820000.000000</td>\n",
       "      <td>250000.000000</td>\n",
       "      <td>40.000000</td>\n",
       "      <td>80.000000</td>\n",
       "      <td>600.000000</td>\n",
       "      <td>5.121639e+06</td>\n",
       "    </tr>\n",
       "  </tbody>\n",
       "</table>\n",
       "</div>"
      ],
      "text/plain": [
       "            市区町村コード      取引価格（総額）            坪単価      取引価格（㎡単価）   前面道路：幅員（ｍ）  \\\n",
       "count   4285.000000  4.285000e+03    1582.000000    1582.000000  2419.000000   \n",
       "mean   44217.703617  1.240033e+07   97807.483565   29583.822377     6.868003   \n",
       "std       52.006009  4.280448e+07   89697.247046   27101.326648     4.785688   \n",
       "min    44201.000000  2.000000e+03      59.000000      18.000000     1.000000   \n",
       "25%    44201.000000  8.200000e+05   32000.000000    9550.000000     4.000000   \n",
       "50%    44204.000000  4.800000e+06   79000.000000   24000.000000     6.000000   \n",
       "75%    44210.000000  1.200000e+07  140000.000000   41000.000000     7.500000   \n",
       "max    44462.000000  1.100000e+09  820000.000000  250000.000000    40.000000   \n",
       "\n",
       "           建ぺい率（％）       容積率（％）  price_per_tsubo  \n",
       "count  2451.000000  2451.000000     3.966000e+03  \n",
       "mean     63.439412   221.664627     1.350673e+05  \n",
       "std       9.682843    91.241792     2.187002e+05  \n",
       "min      30.000000    60.000000     1.180638e+01  \n",
       "25%      60.000000   200.000000     4.314658e+03  \n",
       "50%      60.000000   200.000000     6.019357e+04  \n",
       "75%      70.000000   200.000000     1.731602e+05  \n",
       "max      80.000000   600.000000     5.121639e+06  "
      ]
     },
     "execution_count": 70,
     "metadata": {},
     "output_type": "execute_result"
    }
   ],
   "source": [
    "df_webland_oita[\"price_per_tsubo\"] = calc_price_per_tsubo(df_webland_oita[\"取引価格（総額）\"].values,\n",
    "                                                               df_webland_oita[\"面積（㎡）\"].values)\n",
    "df_webland_oita.describe()"
   ]
  },
  {
   "cell_type": "code",
   "execution_count": 71,
   "metadata": {
    "collapsed": false,
    "scrolled": true
   },
   "outputs": [
    {
     "data": {
      "image/png": "[encoded data removed]",
      "text/plain": [
       "<matplotlib.figure.Figure at 0x12ac0b1d0>"
      ]
     },
     "metadata": {},
     "output_type": "display_data"
    }
   ],
   "source": [
    "seaborn.distplot(df_webland_oita[\"price_per_tsubo\"].dropna().values, kde=False, rug=True);"
   ]
  },
  {
   "cell_type": "markdown",
   "metadata": {},
   "source": [
    "飛び抜けて高い値がいくつかあるので median で市町村コードで集計をかける"
   ]
  },
  {
   "cell_type": "code",
   "execution_count": 72,
   "metadata": {
    "collapsed": false
   },
   "outputs": [],
   "source": [
    "df_oita_median_by_city = df_webland_oita.groupby(\"市区町村コード\").median()\n"
   ]
  },
  {
   "cell_type": "markdown",
   "metadata": {},
   "source": [
    "folium 0.2.1 でのバグのため、キーとなる列を文字列にする。"
   ]
  },
  {
   "cell_type": "code",
   "execution_count": 76,
   "metadata": {
    "collapsed": true
   },
   "outputs": [],
   "source": [
    "df_oita_median_by_city[\"city_code\"] = np.array([\"M\"+str(x) for x in df_oita_median_by_city.index.values])\n",
    "df_oita_median_by_city.index = np.array([\"M\"+str(x) for x in df_oita_median_by_city.index.values])"
   ]
  },
  {
   "cell_type": "code",
   "execution_count": 74,
   "metadata": {
    "collapsed": false
   },
   "outputs": [
    {
     "data": {
      "text/html": [
       "<div>\n",
       "<table border=\"1\" class=\"dataframe\">\n",
       "  <thead>\n",
       "    <tr style=\"text-align: right;\">\n",
       "      <th></th>\n",
       "      <th>取引価格（総額）</th>\n",
       "      <th>坪単価</th>\n",
       "      <th>取引価格（㎡単価）</th>\n",
       "      <th>前面道路：幅員（ｍ）</th>\n",
       "      <th>建ぺい率（％）</th>\n",
       "      <th>容積率（％）</th>\n",
       "      <th>price_per_tsubo</th>\n",
       "      <th>city_code</th>\n",
       "    </tr>\n",
       "  </thead>\n",
       "  <tbody>\n",
       "    <tr>\n",
       "      <th>M44201</th>\n",
       "      <td>12000000</td>\n",
       "      <td>120000.0</td>\n",
       "      <td>35000.0</td>\n",
       "      <td>6.0</td>\n",
       "      <td>60.0</td>\n",
       "      <td>200.0</td>\n",
       "      <td>180546.726001</td>\n",
       "      <td>M44201</td>\n",
       "    </tr>\n",
       "    <tr>\n",
       "      <th>M44202</th>\n",
       "      <td>11000000</td>\n",
       "      <td>150000.0</td>\n",
       "      <td>45000.0</td>\n",
       "      <td>5.5</td>\n",
       "      <td>60.0</td>\n",
       "      <td>200.0</td>\n",
       "      <td>192336.589031</td>\n",
       "      <td>M44202</td>\n",
       "    </tr>\n",
       "    <tr>\n",
       "      <th>M44203</th>\n",
       "      <td>4000000</td>\n",
       "      <td>53000.0</td>\n",
       "      <td>16000.0</td>\n",
       "      <td>6.0</td>\n",
       "      <td>60.0</td>\n",
       "      <td>200.0</td>\n",
       "      <td>37780.401417</td>\n",
       "      <td>M44203</td>\n",
       "    </tr>\n",
       "    <tr>\n",
       "      <th>M44204</th>\n",
       "      <td>2250000</td>\n",
       "      <td>89000.0</td>\n",
       "      <td>27000.0</td>\n",
       "      <td>5.5</td>\n",
       "      <td>60.0</td>\n",
       "      <td>200.0</td>\n",
       "      <td>15112.160567</td>\n",
       "      <td>M44204</td>\n",
       "    </tr>\n",
       "    <tr>\n",
       "      <th>M44205</th>\n",
       "      <td>1000000</td>\n",
       "      <td>55000.0</td>\n",
       "      <td>17000.0</td>\n",
       "      <td>6.0</td>\n",
       "      <td>60.0</td>\n",
       "      <td>200.0</td>\n",
       "      <td>11019.283747</td>\n",
       "      <td>M44205</td>\n",
       "    </tr>\n",
       "    <tr>\n",
       "      <th>M44206</th>\n",
       "      <td>2050000</td>\n",
       "      <td>72500.0</td>\n",
       "      <td>22000.0</td>\n",
       "      <td>4.3</td>\n",
       "      <td>60.0</td>\n",
       "      <td>200.0</td>\n",
       "      <td>22038.567493</td>\n",
       "      <td>M44206</td>\n",
       "    </tr>\n",
       "    <tr>\n",
       "      <th>M44207</th>\n",
       "      <td>1400000</td>\n",
       "      <td>70000.0</td>\n",
       "      <td>21000.0</td>\n",
       "      <td>6.0</td>\n",
       "      <td>60.0</td>\n",
       "      <td>200.0</td>\n",
       "      <td>27838.190518</td>\n",
       "      <td>M44207</td>\n",
       "    </tr>\n",
       "    <tr>\n",
       "      <th>M44208</th>\n",
       "      <td>600000</td>\n",
       "      <td>42500.0</td>\n",
       "      <td>13000.0</td>\n",
       "      <td>6.0</td>\n",
       "      <td>70.0</td>\n",
       "      <td>200.0</td>\n",
       "      <td>2232.753472</td>\n",
       "      <td>M44208</td>\n",
       "    </tr>\n",
       "    <tr>\n",
       "      <th>M44209</th>\n",
       "      <td>765000</td>\n",
       "      <td>21500.0</td>\n",
       "      <td>6600.0</td>\n",
       "      <td>5.0</td>\n",
       "      <td>60.0</td>\n",
       "      <td>200.0</td>\n",
       "      <td>2880.040070</td>\n",
       "      <td>M44209</td>\n",
       "    </tr>\n",
       "    <tr>\n",
       "      <th>M44210</th>\n",
       "      <td>2000000</td>\n",
       "      <td>31000.0</td>\n",
       "      <td>9500.0</td>\n",
       "      <td>6.0</td>\n",
       "      <td>70.0</td>\n",
       "      <td>200.0</td>\n",
       "      <td>9015.777611</td>\n",
       "      <td>M44210</td>\n",
       "    </tr>\n",
       "    <tr>\n",
       "      <th>M44211</th>\n",
       "      <td>1500000</td>\n",
       "      <td>24000.0</td>\n",
       "      <td>7200.0</td>\n",
       "      <td>6.0</td>\n",
       "      <td>70.0</td>\n",
       "      <td>200.0</td>\n",
       "      <td>4628.099174</td>\n",
       "      <td>M44211</td>\n",
       "    </tr>\n",
       "    <tr>\n",
       "      <th>M44212</th>\n",
       "      <td>810000</td>\n",
       "      <td>25000.0</td>\n",
       "      <td>7700.0</td>\n",
       "      <td>5.6</td>\n",
       "      <td>70.0</td>\n",
       "      <td>200.0</td>\n",
       "      <td>2479.338843</td>\n",
       "      <td>M44212</td>\n",
       "    </tr>\n",
       "    <tr>\n",
       "      <th>M44213</th>\n",
       "      <td>3100000</td>\n",
       "      <td>25000.0</td>\n",
       "      <td>7600.0</td>\n",
       "      <td>5.0</td>\n",
       "      <td>60.0</td>\n",
       "      <td>200.0</td>\n",
       "      <td>17034.913139</td>\n",
       "      <td>M44213</td>\n",
       "    </tr>\n",
       "    <tr>\n",
       "      <th>M44214</th>\n",
       "      <td>750000</td>\n",
       "      <td>20000.0</td>\n",
       "      <td>6000.0</td>\n",
       "      <td>6.0</td>\n",
       "      <td>80.0</td>\n",
       "      <td>200.0</td>\n",
       "      <td>3305.785124</td>\n",
       "      <td>M44214</td>\n",
       "    </tr>\n",
       "    <tr>\n",
       "      <th>M44322</th>\n",
       "      <td>1400000</td>\n",
       "      <td>20000.0</td>\n",
       "      <td>6000.0</td>\n",
       "      <td>6.0</td>\n",
       "      <td>NaN</td>\n",
       "      <td>NaN</td>\n",
       "      <td>20122.170320</td>\n",
       "      <td>M44322</td>\n",
       "    </tr>\n",
       "    <tr>\n",
       "      <th>M44341</th>\n",
       "      <td>4100000</td>\n",
       "      <td>54000.0</td>\n",
       "      <td>16000.0</td>\n",
       "      <td>5.0</td>\n",
       "      <td>70.0</td>\n",
       "      <td>200.0</td>\n",
       "      <td>39026.214427</td>\n",
       "      <td>M44341</td>\n",
       "    </tr>\n",
       "    <tr>\n",
       "      <th>M44461</th>\n",
       "      <td>1000000</td>\n",
       "      <td>16000.0</td>\n",
       "      <td>4800.0</td>\n",
       "      <td>5.0</td>\n",
       "      <td>NaN</td>\n",
       "      <td>NaN</td>\n",
       "      <td>5611.135276</td>\n",
       "      <td>M44461</td>\n",
       "    </tr>\n",
       "    <tr>\n",
       "      <th>M44462</th>\n",
       "      <td>700000</td>\n",
       "      <td>31500.0</td>\n",
       "      <td>9650.0</td>\n",
       "      <td>6.0</td>\n",
       "      <td>70.0</td>\n",
       "      <td>200.0</td>\n",
       "      <td>2600.055715</td>\n",
       "      <td>M44462</td>\n",
       "    </tr>\n",
       "  </tbody>\n",
       "</table>\n",
       "</div>"
      ],
      "text/plain": [
       "        取引価格（総額）       坪単価  取引価格（㎡単価）  前面道路：幅員（ｍ）  建ぺい率（％）  容積率（％）  \\\n",
       "M44201  12000000  120000.0    35000.0         6.0     60.0   200.0   \n",
       "M44202  11000000  150000.0    45000.0         5.5     60.0   200.0   \n",
       "M44203   4000000   53000.0    16000.0         6.0     60.0   200.0   \n",
       "M44204   2250000   89000.0    27000.0         5.5     60.0   200.0   \n",
       "M44205   1000000   55000.0    17000.0         6.0     60.0   200.0   \n",
       "M44206   2050000   72500.0    22000.0         4.3     60.0   200.0   \n",
       "M44207   1400000   70000.0    21000.0         6.0     60.0   200.0   \n",
       "M44208    600000   42500.0    13000.0         6.0     70.0   200.0   \n",
       "M44209    765000   21500.0     6600.0         5.0     60.0   200.0   \n",
       "M44210   2000000   31000.0     9500.0         6.0     70.0   200.0   \n",
       "M44211   1500000   24000.0     7200.0         6.0     70.0   200.0   \n",
       "M44212    810000   25000.0     7700.0         5.6     70.0   200.0   \n",
       "M44213   3100000   25000.0     7600.0         5.0     60.0   200.0   \n",
       "M44214    750000   20000.0     6000.0         6.0     80.0   200.0   \n",
       "M44322   1400000   20000.0     6000.0         6.0      NaN     NaN   \n",
       "M44341   4100000   54000.0    16000.0         5.0     70.0   200.0   \n",
       "M44461   1000000   16000.0     4800.0         5.0      NaN     NaN   \n",
       "M44462    700000   31500.0     9650.0         6.0     70.0   200.0   \n",
       "\n",
       "        price_per_tsubo city_code  \n",
       "M44201    180546.726001    M44201  \n",
       "M44202    192336.589031    M44202  \n",
       "M44203     37780.401417    M44203  \n",
       "M44204     15112.160567    M44204  \n",
       "M44205     11019.283747    M44205  \n",
       "M44206     22038.567493    M44206  \n",
       "M44207     27838.190518    M44207  \n",
       "M44208      2232.753472    M44208  \n",
       "M44209      2880.040070    M44209  \n",
       "M44210      9015.777611    M44210  \n",
       "M44211      4628.099174    M44211  \n",
       "M44212      2479.338843    M44212  \n",
       "M44213     17034.913139    M44213  \n",
       "M44214      3305.785124    M44214  \n",
       "M44322     20122.170320    M44322  \n",
       "M44341     39026.214427    M44341  \n",
       "M44461      5611.135276    M44461  \n",
       "M44462      2600.055715    M44462  "
      ]
     },
     "execution_count": 74,
     "metadata": {},
     "output_type": "execute_result"
    }
   ],
   "source": [
    "df_oita_median_by_city"
   ]
  },
  {
   "cell_type": "code",
   "execution_count": 32,
   "metadata": {
    "collapsed": false
   },
   "outputs": [
    {
     "data": {
      "text/plain": [
       "<matplotlib.axes._subplots.AxesSubplot at 0x11f452198>"
      ]
     },
     "execution_count": 32,
     "metadata": {},
     "output_type": "execute_result"
    },
    {
     "data": {
      "image/png": "[encoded data removed]",
      "text/plain": [
       "<matplotlib.figure.Figure at 0x11f420588>"
      ]
     },
     "metadata": {},
     "output_type": "display_data"
    }
   ],
   "source": [
    "seaborn.regplot(x=\"坪単価\", y=\"price_per_tsubo\", data=df_oita_median_by_city)"
   ]
  },
  {
   "cell_type": "code",
   "execution_count": 33,
   "metadata": {
    "collapsed": false
   },
   "outputs": [
    {
     "data": {
      "image/png": "[encoded data removed]",
      "text/plain": [
       "<matplotlib.figure.Figure at 0x11f40a748>"
      ]
     },
     "metadata": {},
     "output_type": "display_data"
    }
   ],
   "source": [
    "seaborn.distplot(df_oita_median_by_city[\"price_per_tsubo\"].dropna().values, kde=False, rug=True);"
   ]
  },
  {
   "cell_type": "markdown",
   "metadata": {},
   "source": [
    "### using dataframe and geojson visualization"
   ]
  },
  {
   "cell_type": "code",
   "execution_count": 79,
   "metadata": {
    "collapsed": false,
    "scrolled": false
   },
   "outputs": [
    {
     "ename": "KeyError",
     "evalue": "'M44201'",
     "output_type": "error",
     "traceback": [
      "\u001b[0;31m---------------------------------------------------------------------------\u001b[0m",
      "\u001b[0;31mKeyError\u001b[0m                                  Traceback (most recent call last)",
      "\u001b[0;32m/usr/local/opt/pyenv/versions/anaconda3-4.0.0/lib/python3.5/site-packages/IPython/core/formatters.py\u001b[0m in \u001b[0;36m__call__\u001b[0;34m(self, obj)\u001b[0m\n\u001b[1;32m    341\u001b[0m             \u001b[0mmethod\u001b[0m \u001b[0;34m=\u001b[0m \u001b[0m_safe_get_formatter_method\u001b[0m\u001b[0;34m(\u001b[0m\u001b[0mobj\u001b[0m\u001b[0;34m,\u001b[0m \u001b[0mself\u001b[0m\u001b[0;34m.\u001b[0m\u001b[0mprint_method\u001b[0m\u001b[0;34m)\u001b[0m\u001b[0;34m\u001b[0m\u001b[0m\n\u001b[1;32m    342\u001b[0m             \u001b[0;32mif\u001b[0m \u001b[0mmethod\u001b[0m \u001b[0;32mis\u001b[0m \u001b[0;32mnot\u001b[0m \u001b[0;32mNone\u001b[0m\u001b[0;34m:\u001b[0m\u001b[0;34m\u001b[0m\u001b[0m\n\u001b[0;32m--> 343\u001b[0;31m                 \u001b[0;32mreturn\u001b[0m \u001b[0mmethod\u001b[0m\u001b[0;34m(\u001b[0m\u001b[0;34m)\u001b[0m\u001b[0;34m\u001b[0m\u001b[0m\n\u001b[0m\u001b[1;32m    344\u001b[0m             \u001b[0;32mreturn\u001b[0m \u001b[0;32mNone\u001b[0m\u001b[0;34m\u001b[0m\u001b[0m\n\u001b[1;32m    345\u001b[0m         \u001b[0;32melse\u001b[0m\u001b[0;34m:\u001b[0m\u001b[0;34m\u001b[0m\u001b[0m\n",
      "\u001b[0;32m/usr/local/opt/pyenv/versions/anaconda3-4.0.0/lib/python3.5/site-packages/folium/map.py\u001b[0m in \u001b[0;36m_repr_html_\u001b[0;34m(self, **kwargs)\u001b[0m\n\u001b[1;32m    177\u001b[0m             \u001b[0mself\u001b[0m\u001b[0;34m.\u001b[0m\u001b[0m_parent\u001b[0m \u001b[0;34m=\u001b[0m \u001b[0;32mNone\u001b[0m\u001b[0;34m\u001b[0m\u001b[0m\n\u001b[1;32m    178\u001b[0m         \u001b[0;32melse\u001b[0m\u001b[0;34m:\u001b[0m\u001b[0;34m\u001b[0m\u001b[0m\n\u001b[0;32m--> 179\u001b[0;31m             \u001b[0mout\u001b[0m \u001b[0;34m=\u001b[0m \u001b[0mself\u001b[0m\u001b[0;34m.\u001b[0m\u001b[0m_parent\u001b[0m\u001b[0;34m.\u001b[0m\u001b[0m_repr_html_\u001b[0m\u001b[0;34m(\u001b[0m\u001b[0;34m**\u001b[0m\u001b[0mkwargs\u001b[0m\u001b[0;34m)\u001b[0m\u001b[0;34m\u001b[0m\u001b[0m\n\u001b[0m\u001b[1;32m    180\u001b[0m         \u001b[0;32mreturn\u001b[0m \u001b[0mout\u001b[0m\u001b[0;34m\u001b[0m\u001b[0m\n\u001b[1;32m    181\u001b[0m \u001b[0;34m\u001b[0m\u001b[0m\n",
      "\u001b[0;32m/usr/local/opt/pyenv/versions/anaconda3-4.0.0/lib/python3.5/site-packages/folium/element.py\u001b[0m in \u001b[0;36m_repr_html_\u001b[0;34m(self, **kwargs)\u001b[0m\n\u001b[1;32m    367\u001b[0m \u001b[0;34m\u001b[0m\u001b[0m\n\u001b[1;32m    368\u001b[0m         \"\"\"\n\u001b[0;32m--> 369\u001b[0;31m         \u001b[0mhtml\u001b[0m \u001b[0;34m=\u001b[0m \u001b[0mself\u001b[0m\u001b[0;34m.\u001b[0m\u001b[0mrender\u001b[0m\u001b[0;34m(\u001b[0m\u001b[0;34m**\u001b[0m\u001b[0mkwargs\u001b[0m\u001b[0;34m)\u001b[0m\u001b[0;34m\u001b[0m\u001b[0m\n\u001b[0m\u001b[1;32m    370\u001b[0m         \u001b[0mhtml\u001b[0m \u001b[0;34m=\u001b[0m \u001b[0;34m\"data:text/html;base64,\"\u001b[0m \u001b[0;34m+\u001b[0m \u001b[0mbase64\u001b[0m\u001b[0;34m.\u001b[0m\u001b[0mb64encode\u001b[0m\u001b[0;34m(\u001b[0m\u001b[0mhtml\u001b[0m\u001b[0;34m.\u001b[0m\u001b[0mencode\u001b[0m\u001b[0;34m(\u001b[0m\u001b[0;34m'utf8'\u001b[0m\u001b[0;34m)\u001b[0m\u001b[0;34m)\u001b[0m\u001b[0;34m.\u001b[0m\u001b[0mdecode\u001b[0m\u001b[0;34m(\u001b[0m\u001b[0;34m'utf8'\u001b[0m\u001b[0;34m)\u001b[0m  \u001b[0;31m# noqa\u001b[0m\u001b[0;34m\u001b[0m\u001b[0m\n\u001b[1;32m    371\u001b[0m \u001b[0;34m\u001b[0m\u001b[0m\n",
      "\u001b[0;32m/usr/local/opt/pyenv/versions/anaconda3-4.0.0/lib/python3.5/site-packages/folium/element.py\u001b[0m in \u001b[0;36mrender\u001b[0;34m(self, **kwargs)\u001b[0m\n\u001b[1;32m    357\u001b[0m         \u001b[0;34m\"\"\"Renders the HTML representation of the element.\"\"\"\u001b[0m\u001b[0;34m\u001b[0m\u001b[0m\n\u001b[1;32m    358\u001b[0m         \u001b[0;32mfor\u001b[0m \u001b[0mname\u001b[0m\u001b[0;34m,\u001b[0m \u001b[0mchild\u001b[0m \u001b[0;32min\u001b[0m \u001b[0mself\u001b[0m\u001b[0;34m.\u001b[0m\u001b[0m_children\u001b[0m\u001b[0;34m.\u001b[0m\u001b[0mitems\u001b[0m\u001b[0;34m(\u001b[0m\u001b[0;34m)\u001b[0m\u001b[0;34m:\u001b[0m\u001b[0;34m\u001b[0m\u001b[0m\n\u001b[0;32m--> 359\u001b[0;31m             \u001b[0mchild\u001b[0m\u001b[0;34m.\u001b[0m\u001b[0mrender\u001b[0m\u001b[0;34m(\u001b[0m\u001b[0;34m**\u001b[0m\u001b[0mkwargs\u001b[0m\u001b[0;34m)\u001b[0m\u001b[0;34m\u001b[0m\u001b[0m\n\u001b[0m\u001b[1;32m    360\u001b[0m         \u001b[0;32mreturn\u001b[0m \u001b[0mself\u001b[0m\u001b[0;34m.\u001b[0m\u001b[0m_template\u001b[0m\u001b[0;34m.\u001b[0m\u001b[0mrender\u001b[0m\u001b[0;34m(\u001b[0m\u001b[0mthis\u001b[0m\u001b[0;34m=\u001b[0m\u001b[0mself\u001b[0m\u001b[0;34m,\u001b[0m \u001b[0mkwargs\u001b[0m\u001b[0;34m=\u001b[0m\u001b[0mkwargs\u001b[0m\u001b[0;34m)\u001b[0m\u001b[0;34m\u001b[0m\u001b[0m\n\u001b[1;32m    361\u001b[0m \u001b[0;34m\u001b[0m\u001b[0m\n",
      "\u001b[0;32m/usr/local/opt/pyenv/versions/anaconda3-4.0.0/lib/python3.5/site-packages/folium/element.py\u001b[0m in \u001b[0;36mrender\u001b[0;34m(self, **kwargs)\u001b[0m\n\u001b[1;32m    665\u001b[0m \u001b[0;34m\u001b[0m\u001b[0m\n\u001b[1;32m    666\u001b[0m         \u001b[0;32mfor\u001b[0m \u001b[0mname\u001b[0m\u001b[0;34m,\u001b[0m \u001b[0melement\u001b[0m \u001b[0;32min\u001b[0m \u001b[0mself\u001b[0m\u001b[0;34m.\u001b[0m\u001b[0m_children\u001b[0m\u001b[0;34m.\u001b[0m\u001b[0mitems\u001b[0m\u001b[0;34m(\u001b[0m\u001b[0;34m)\u001b[0m\u001b[0;34m:\u001b[0m\u001b[0;34m\u001b[0m\u001b[0m\n\u001b[0;32m--> 667\u001b[0;31m             \u001b[0melement\u001b[0m\u001b[0;34m.\u001b[0m\u001b[0mrender\u001b[0m\u001b[0;34m(\u001b[0m\u001b[0;34m**\u001b[0m\u001b[0mkwargs\u001b[0m\u001b[0;34m)\u001b[0m\u001b[0;34m\u001b[0m\u001b[0m\n\u001b[0m",
      "\u001b[0;32m/usr/local/opt/pyenv/versions/anaconda3-4.0.0/lib/python3.5/site-packages/folium/element.py\u001b[0m in \u001b[0;36mrender\u001b[0;34m(self, **kwargs)\u001b[0m\n\u001b[1;32m    661\u001b[0m         \u001b[0mscript\u001b[0m \u001b[0;34m=\u001b[0m \u001b[0mself\u001b[0m\u001b[0;34m.\u001b[0m\u001b[0m_template\u001b[0m\u001b[0;34m.\u001b[0m\u001b[0mmodule\u001b[0m\u001b[0;34m.\u001b[0m\u001b[0m__dict__\u001b[0m\u001b[0;34m.\u001b[0m\u001b[0mget\u001b[0m\u001b[0;34m(\u001b[0m\u001b[0;34m'script'\u001b[0m\u001b[0;34m,\u001b[0m \u001b[0;32mNone\u001b[0m\u001b[0;34m)\u001b[0m\u001b[0;34m\u001b[0m\u001b[0m\n\u001b[1;32m    662\u001b[0m         \u001b[0;32mif\u001b[0m \u001b[0mscript\u001b[0m \u001b[0;32mis\u001b[0m \u001b[0;32mnot\u001b[0m \u001b[0;32mNone\u001b[0m\u001b[0;34m:\u001b[0m\u001b[0;34m\u001b[0m\u001b[0m\n\u001b[0;32m--> 663\u001b[0;31m             figure.script.add_children(Element(script(self, kwargs)),\n\u001b[0m\u001b[1;32m    664\u001b[0m                                        name=self.get_name())\n\u001b[1;32m    665\u001b[0m \u001b[0;34m\u001b[0m\u001b[0m\n",
      "\u001b[0;32m/usr/local/opt/pyenv/versions/anaconda3-4.0.0/lib/python3.5/site-packages/jinja2/runtime.py\u001b[0m in \u001b[0;36m__call__\u001b[0;34m(self, *args, **kwargs)\u001b[0m\n\u001b[1;32m    434\u001b[0m             raise TypeError('macro %r takes not more than %d argument(s)' %\n\u001b[1;32m    435\u001b[0m                             (self.name, len(self.arguments)))\n\u001b[0;32m--> 436\u001b[0;31m         \u001b[0;32mreturn\u001b[0m \u001b[0mself\u001b[0m\u001b[0;34m.\u001b[0m\u001b[0m_func\u001b[0m\u001b[0;34m(\u001b[0m\u001b[0;34m*\u001b[0m\u001b[0marguments\u001b[0m\u001b[0;34m)\u001b[0m\u001b[0;34m\u001b[0m\u001b[0m\n\u001b[0m\u001b[1;32m    437\u001b[0m \u001b[0;34m\u001b[0m\u001b[0m\n\u001b[1;32m    438\u001b[0m     \u001b[0;32mdef\u001b[0m \u001b[0m__repr__\u001b[0m\u001b[0;34m(\u001b[0m\u001b[0mself\u001b[0m\u001b[0;34m)\u001b[0m\u001b[0;34m:\u001b[0m\u001b[0;34m\u001b[0m\u001b[0m\n",
      "\u001b[0;32m<template>\u001b[0m in \u001b[0;36mmacro\u001b[0;34m(l_this, l_kwargs)\u001b[0m\n",
      "\u001b[0;32m/usr/local/opt/pyenv/versions/anaconda3-4.0.0/lib/python3.5/site-packages/jinja2/runtime.py\u001b[0m in \u001b[0;36mcall\u001b[0;34m(_Context__self, _Context__obj, *args, **kwargs)\u001b[0m\n\u001b[1;32m    194\u001b[0m                 \u001b[0margs\u001b[0m \u001b[0;34m=\u001b[0m \u001b[0;34m(\u001b[0m\u001b[0m__self\u001b[0m\u001b[0;34m.\u001b[0m\u001b[0menvironment\u001b[0m\u001b[0;34m,\u001b[0m\u001b[0;34m)\u001b[0m \u001b[0;34m+\u001b[0m \u001b[0margs\u001b[0m\u001b[0;34m\u001b[0m\u001b[0m\n\u001b[1;32m    195\u001b[0m         \u001b[0;32mtry\u001b[0m\u001b[0;34m:\u001b[0m\u001b[0;34m\u001b[0m\u001b[0m\n\u001b[0;32m--> 196\u001b[0;31m             \u001b[0;32mreturn\u001b[0m \u001b[0m__obj\u001b[0m\u001b[0;34m(\u001b[0m\u001b[0;34m*\u001b[0m\u001b[0margs\u001b[0m\u001b[0;34m,\u001b[0m \u001b[0;34m**\u001b[0m\u001b[0mkwargs\u001b[0m\u001b[0;34m)\u001b[0m\u001b[0;34m\u001b[0m\u001b[0m\n\u001b[0m\u001b[1;32m    197\u001b[0m         \u001b[0;32mexcept\u001b[0m \u001b[0mStopIteration\u001b[0m\u001b[0;34m:\u001b[0m\u001b[0;34m\u001b[0m\u001b[0m\n\u001b[1;32m    198\u001b[0m             return __self.environment.undefined('value was undefined because '\n",
      "\u001b[0;32m/usr/local/opt/pyenv/versions/anaconda3-4.0.0/lib/python3.5/site-packages/folium/features.py\u001b[0m in \u001b[0;36mstyle_data\u001b[0;34m(self)\u001b[0m\n\u001b[1;32m    352\u001b[0m \u001b[0;34m\u001b[0m\u001b[0m\n\u001b[1;32m    353\u001b[0m         \u001b[0;32mfor\u001b[0m \u001b[0mfeature\u001b[0m \u001b[0;32min\u001b[0m \u001b[0mself\u001b[0m\u001b[0;34m.\u001b[0m\u001b[0mdata\u001b[0m\u001b[0;34m[\u001b[0m\u001b[0;34m'features'\u001b[0m\u001b[0;34m]\u001b[0m\u001b[0;34m:\u001b[0m\u001b[0;34m\u001b[0m\u001b[0m\n\u001b[0;32m--> 354\u001b[0;31m             \u001b[0mfeature\u001b[0m\u001b[0;34m.\u001b[0m\u001b[0msetdefault\u001b[0m\u001b[0;34m(\u001b[0m\u001b[0;34m'properties'\u001b[0m\u001b[0;34m,\u001b[0m \u001b[0;34m{\u001b[0m\u001b[0;34m}\u001b[0m\u001b[0;34m)\u001b[0m\u001b[0;34m.\u001b[0m\u001b[0msetdefault\u001b[0m\u001b[0;34m(\u001b[0m\u001b[0;34m'style'\u001b[0m\u001b[0;34m,\u001b[0m \u001b[0;34m{\u001b[0m\u001b[0;34m}\u001b[0m\u001b[0;34m)\u001b[0m\u001b[0;34m.\u001b[0m\u001b[0mupdate\u001b[0m\u001b[0;34m(\u001b[0m\u001b[0mself\u001b[0m\u001b[0;34m.\u001b[0m\u001b[0mstyle_function\u001b[0m\u001b[0;34m(\u001b[0m\u001b[0mfeature\u001b[0m\u001b[0;34m)\u001b[0m\u001b[0;34m)\u001b[0m  \u001b[0;31m# noqa\u001b[0m\u001b[0;34m\u001b[0m\u001b[0m\n\u001b[0m\u001b[1;32m    355\u001b[0m         \u001b[0;32mreturn\u001b[0m \u001b[0mjson\u001b[0m\u001b[0;34m.\u001b[0m\u001b[0mdumps\u001b[0m\u001b[0;34m(\u001b[0m\u001b[0mself\u001b[0m\u001b[0;34m.\u001b[0m\u001b[0mdata\u001b[0m\u001b[0;34m,\u001b[0m \u001b[0msort_keys\u001b[0m\u001b[0;34m=\u001b[0m\u001b[0;32mTrue\u001b[0m\u001b[0;34m)\u001b[0m\u001b[0;34m\u001b[0m\u001b[0m\n\u001b[1;32m    356\u001b[0m \u001b[0;34m\u001b[0m\u001b[0m\n",
      "\u001b[0;32m/usr/local/opt/pyenv/versions/anaconda3-4.0.0/lib/python3.5/site-packages/folium/folium.py\u001b[0m in \u001b[0;36mstyle_function\u001b[0;34m(x)\u001b[0m\n\u001b[1;32m    671\u001b[0m                 \u001b[0;34m\"color\"\u001b[0m\u001b[0;34m:\u001b[0m \u001b[0mline_color\u001b[0m\u001b[0;34m,\u001b[0m\u001b[0;34m\u001b[0m\u001b[0m\n\u001b[1;32m    672\u001b[0m                 \u001b[0;34m\"fillOpacity\"\u001b[0m\u001b[0;34m:\u001b[0m \u001b[0mfill_opacity\u001b[0m\u001b[0;34m,\u001b[0m\u001b[0;34m\u001b[0m\u001b[0m\n\u001b[0;32m--> 673\u001b[0;31m                 \u001b[0;34m\"fillColor\"\u001b[0m\u001b[0;34m:\u001b[0m \u001b[0mcolor_scale_fun\u001b[0m\u001b[0;34m(\u001b[0m\u001b[0mx\u001b[0m\u001b[0;34m)\u001b[0m\u001b[0;34m\u001b[0m\u001b[0m\n\u001b[0m\u001b[1;32m    674\u001b[0m             }\n\u001b[1;32m    675\u001b[0m \u001b[0;34m\u001b[0m\u001b[0m\n",
      "\u001b[0;32m/usr/local/opt/pyenv/versions/anaconda3-4.0.0/lib/python3.5/site-packages/folium/folium.py\u001b[0m in \u001b[0;36mcolor_scale_fun\u001b[0;34m(x)\u001b[0m\n\u001b[1;32m    659\u001b[0m             \u001b[0;32mdef\u001b[0m \u001b[0mcolor_scale_fun\u001b[0m\u001b[0;34m(\u001b[0m\u001b[0mx\u001b[0m\u001b[0;34m)\u001b[0m\u001b[0;34m:\u001b[0m\u001b[0;34m\u001b[0m\u001b[0m\n\u001b[1;32m    660\u001b[0m                 return color_range[len(\n\u001b[0;32m--> 661\u001b[0;31m                     [u for u in color_domain if\n\u001b[0m\u001b[1;32m    662\u001b[0m                      u <= color_data[get_by_key(x, key_on)]])]\n\u001b[1;32m    663\u001b[0m         \u001b[0;32melse\u001b[0m\u001b[0;34m:\u001b[0m\u001b[0;34m\u001b[0m\u001b[0m\n",
      "\u001b[0;32m/usr/local/opt/pyenv/versions/anaconda3-4.0.0/lib/python3.5/site-packages/folium/folium.py\u001b[0m in \u001b[0;36m<listcomp>\u001b[0;34m(.0)\u001b[0m\n\u001b[1;32m    660\u001b[0m                 return color_range[len(\n\u001b[1;32m    661\u001b[0m                     [u for u in color_domain if\n\u001b[0;32m--> 662\u001b[0;31m                      u <= color_data[get_by_key(x, key_on)]])]\n\u001b[0m\u001b[1;32m    663\u001b[0m         \u001b[0;32melse\u001b[0m\u001b[0;34m:\u001b[0m\u001b[0;34m\u001b[0m\u001b[0m\n\u001b[1;32m    664\u001b[0m             \u001b[0;32mdef\u001b[0m \u001b[0mcolor_scale_fun\u001b[0m\u001b[0;34m(\u001b[0m\u001b[0mx\u001b[0m\u001b[0;34m)\u001b[0m\u001b[0;34m:\u001b[0m\u001b[0;34m\u001b[0m\u001b[0m\n",
      "\u001b[0;31mKeyError\u001b[0m: 'M44201'"
     ]
    },
    {
     "data": {
      "text/plain": [
       "<folium.folium.Map at 0x12ad84b38>"
      ]
     },
     "execution_count": 79,
     "metadata": {},
     "output_type": "execute_result"
    }
   ],
   "source": [
    "# map作成\n",
    "m = folium.Map(location=[33.2382026, 131.612535], zoom_start=8)\n",
    "\n",
    "# m.geo_json(geo_path=intermediate_geojson_file, data=df_oita_median_by_city,  # folium 0.1.x\n",
    "m.choropleth(geo_path=intermediate_geojson_file, data=df_oita_median_by_city,\n",
    "    columns=['city_code', 'price_per_tsubo'],\n",
    "    key_on='feature.properties.N03_007',\n",
    "    threshold_scale=[5000, 10000, 25000, 40000, 150000],\n",
    "    fill_color='BuPu', reset=True,\n",
    "    legend_name='price_per_tsubo')\n",
    "\n",
    "# code using my `inline_map()` is available at follium 0.1.x\n",
    "# inline_map(m)\n",
    "\n",
    "m"
   ]
  }
 ],
 "metadata": {
  "kernelspec": {
   "display_name": "Python 3",
   "language": "python",
   "name": "python3"
  },
  "language_info": {
   "codemirror_mode": {
    "name": "ipython",
    "version": 3
   },
   "file_extension": ".py",
   "mimetype": "text/x-python",
   "name": "python",
   "nbconvert_exporter": "python",
   "pygments_lexer": "ipython3",
   "version": "3.5.1"
  }
 },
 "nbformat": 4,
 "nbformat_minor": 0
}
