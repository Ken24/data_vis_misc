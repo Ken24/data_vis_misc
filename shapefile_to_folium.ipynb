{
 "cells": [
  {
   "cell_type": "markdown",
   "metadata": {},
   "source": [
    "# 国土情報サービスなどの可視化\n",
    "* 参考にしたページ\n",
    "    * http://qiita.com/shima_x/items/fe29274d67de3a461524\n",
    "    * http://sinhrks.hatenablog.com/entry/2015/06/14/215514\n",
    "* 動作環境\n",
    "    * anaconda3-4.0.0 を利用。他の anaconda のバージョンでも動作するはず。\n",
    "    * gdal\n",
    "      \n",
    "      OSX の場合、OpenMP が標準の `gcc` に付属していないので、brew で入れる。\n",
    "      ```\n",
    "      brew install gdal  # version 1.11 when i installed it\n",
    "      pip install gdal==1.11  # same as above\n",
    "      ```\n",
    "    *  その他のライブラリ\n",
    "      ```\n",
    "      pip install pyshp nkf\n",
    "      pip install follium\n",
    "      pip install seaborn  # Graph Visualization\n",
    "      ```"
   ]
  },
  {
   "cell_type": "markdown",
   "metadata": {},
   "source": [
    "## logger"
   ]
  },
  {
   "cell_type": "code",
   "execution_count": null,
   "metadata": {
    "collapsed": false
   },
   "outputs": [],
   "source": [
    "from logging import getLogger, StreamHandler, INFO, NullHandler\n",
    "logger = getLogger(__name__)\n",
    "# handler = StreamHandler()\n",
    "handler = NullHandler()\n",
    "handler.setLevel(INFO)\n",
    "logger.setLevel(INFO)\n",
    "logger.addHandler(handler)\n",
    "\n",
    "logger.debug('hello')"
   ]
  },
  {
   "cell_type": "markdown",
   "metadata": {
    "collapsed": true
   },
   "source": [
    "## shapefile to geojson\n",
    "http://nlftp.mlit.go.jp/ksj/ から区画用の shapefile を取得しておく。\n",
    "ここでは大分県の区画を利用している。"
   ]
  },
  {
   "cell_type": "code",
   "execution_count": null,
   "metadata": {
    "collapsed": false,
    "scrolled": true
   },
   "outputs": [],
   "source": [
    "import os\n",
    "import osgeo.ogr\n",
    "import shapefile\n",
    "import nkf\n",
    "import json\n",
    "from json import dumps\n",
    "\n",
    "input_shape_file = \"./N03-20150101_44_GML/N03-15_44_150101.shp\"\n",
    "intermediate_geojson_file = \"./pyshp-oita-f02.json\""
   ]
  },
  {
   "cell_type": "markdown",
   "metadata": {},
   "source": [
    "json 用に dict 型にする"
   ]
  },
  {
   "cell_type": "code",
   "execution_count": null,
   "metadata": {
    "collapsed": false,
    "scrolled": false
   },
   "outputs": [],
   "source": [
    "shape_reader = shapefile.Reader(input_shape_file)\n",
    "\n",
    "# extract field names\n",
    "fields = shape_reader.fields[1:]\n",
    "field_names = [field[0] for field in fields]\n",
    "\n",
    "out_buffer = []\n",
    "for sr in shape_reader.shapeRecords():\n",
    "    atr = dict(zip(field_names, sr.record))\n",
    "    geom = sr.shape.__geo_interface__\n",
    "    out_buffer.append(dict(type=\"Feature\",\n",
    "                       geometry=geom, properties=atr))"
   ]
  },
  {
   "cell_type": "markdown",
   "metadata": {},
   "source": [
    "フィールド名に日本語があると、shift_jis のバイナリ文字列として認識してまうので utf-8 に変換する。"
   ]
  },
  {
   "cell_type": "code",
   "execution_count": null,
   "metadata": {
    "collapsed": false
   },
   "outputs": [],
   "source": [
    "for out_buffer_item in out_buffer:\n",
    "    for prop_key, prop_val in out_buffer_item[\"properties\"].items():\n",
    "        logger.debug(\"key: {}, value: {}\".format(prop_key, prop_val))        \n",
    "        if type(prop_val) == bytes:\n",
    "            logger.debug(\"str: {}\".format(prop_val.decode('shift-jis')))\n",
    "            out_buffer_item[\"properties\"][prop_key] = prop_val.decode('shift-jis')\n",
    "        if prop_key == \"N03_007\":\n",
    "            logger.debug(\"Value of Key N03_007 change to {}\".format(\"M{}\".format(prop_val)))\n",
    "            out_buffer_item[\"properties\"][prop_key]= \"M{}\".format(prop_val)"
   ]
  },
  {
   "cell_type": "markdown",
   "metadata": {},
   "source": [
    "json ファイルとして吐き出す"
   ]
  },
  {
   "cell_type": "code",
   "execution_count": null,
   "metadata": {
    "collapsed": false
   },
   "outputs": [],
   "source": [
    "geojson_str = dumps({\"type\": \"FeatureCollection\",\n",
    "                     \"features\": out_buffer},\n",
    "                    sort_keys=True, ensure_ascii=False, indent=2)\n",
    "\n",
    "with open(intermediate_geojson_file, \"w\") as fh:\n",
    "    logger.debug(\"output type: {}\".format(type(geojson_str)))\n",
    "    fh.write(geojson_str)"
   ]
  },
  {
   "cell_type": "markdown",
   "metadata": {
    "collapsed": true
   },
   "source": [
    "## Visualization via folium"
   ]
  },
  {
   "cell_type": "code",
   "execution_count": null,
   "metadata": {
    "collapsed": false
   },
   "outputs": [],
   "source": [
    "from IPython.display import HTML\n",
    "import folium\n",
    "import gdal\n",
    "import urllib\n",
    "import time\n",
    "import pandas as pd\n",
    "import numpy as np\n",
    "import scipy as sp\n",
    "from numba import jit\n",
    "import seaborn\n",
    "import matplotlib.pyplot as plt\n",
    "\n",
    "%matplotlib inline"
   ]
  },
  {
   "cell_type": "markdown",
   "metadata": {},
   "source": [
    "ipython notebook に HTML を吐き出す関数は follium 0.2 から不要になりました。"
   ]
  },
  {
   "cell_type": "code",
   "execution_count": null,
   "metadata": {
    "collapsed": true
   },
   "outputs": [],
   "source": [
    "# # folium.initialize_notebook()  # is not available\n",
    "\n",
    "# def inline_map(m, out_html_str='tmp.html'):\n",
    "#     # thanks to http://sinhrks.hatenablog.com/entry/2015/06/14/215514\n",
    "#     m.create_map(path='tmp.html')\n",
    "#     iframe = '<iframe srcdoc=\\\"{srcdoc}\\\" style=\\\"width: 100%; height: 400px; border: none\\\"></iframe>'\n",
    "#     return HTML(iframe.format(srcdoc=m.HTML.replace('\\\"', '&quot;')))"
   ]
  },
  {
   "cell_type": "markdown",
   "metadata": {},
   "source": [
    "とりあえず folium で HTML を履いてみる"
   ]
  },
  {
   "cell_type": "code",
   "execution_count": null,
   "metadata": {
    "collapsed": false
   },
   "outputs": [],
   "source": [
    "m = folium.Map(location=[33.2382026, 131.612535], zoom_start=8)\n",
    "m.simple_marker([33.2382026, 131.612535], popup='Oita')\n",
    "\n",
    "# This code is available at follium 0.1.x\n",
    "# inline_map(m, \"trial_oita.html\")\n",
    "m\n"
   ]
  },
  {
   "cell_type": "markdown",
   "metadata": {},
   "source": [
    "### 地図を用いた可視化用にデータをとってくる\n",
    "http://www.land.mlit.go.jp/webland/download 当たりから大分県の不動産取引価格情報を取得"
   ]
  },
  {
   "cell_type": "code",
   "execution_count": null,
   "metadata": {
    "collapsed": true
   },
   "outputs": [],
   "source": [
    "oita_webland_data_dir = \"./webland_oita/\""
   ]
  },
  {
   "cell_type": "markdown",
   "metadata": {},
   "source": [
    "### pandas で読み込む"
   ]
  },
  {
   "cell_type": "markdown",
   "metadata": {},
   "source": [
    "フォルダ配下すべての csv を読み込んで結合する。\n",
    "読み込むデータは不動産価格の取引情報（オープンデータ）"
   ]
  },
  {
   "cell_type": "code",
   "execution_count": null,
   "metadata": {
    "collapsed": false
   },
   "outputs": [],
   "source": [
    "arr_df_webland_oita = []\n",
    "# find csv files and append to array\n",
    "for file in os.listdir(oita_webland_data_dir):\n",
    "    if file.endswith(\".csv\"):\n",
    "        df_tmp = pd.read_csv(oita_webland_data_dir+file,\n",
    "                             encoding=\"cp932\",\n",
    "                             index_col=0)\n",
    "        arr_df_webland_oita.append(df_tmp)\n",
    "\n",
    "#  all dataframes\n",
    "df_webland_oita = pd.concat(arr_df_webland_oita, ignore_index=True)"
   ]
  },
  {
   "cell_type": "code",
   "execution_count": null,
   "metadata": {
    "collapsed": false,
    "scrolled": true
   },
   "outputs": [],
   "source": [
    "df_webland_oita.info()"
   ]
  },
  {
   "cell_type": "code",
   "execution_count": null,
   "metadata": {
    "collapsed": false,
    "scrolled": true
   },
   "outputs": [],
   "source": [
    "df_webland_oita.head()"
   ]
  },
  {
   "cell_type": "markdown",
   "metadata": {},
   "source": [
    "坪単価の列に何故か null 値があるので自分で計算する。"
   ]
  },
  {
   "cell_type": "code",
   "execution_count": null,
   "metadata": {
    "collapsed": false,
    "scrolled": true
   },
   "outputs": [],
   "source": [
    "pd.value_counts(df_webland_oita[\"面積（㎡）\"])"
   ]
  },
  {
   "cell_type": "code",
   "execution_count": null,
   "metadata": {
    "collapsed": true
   },
   "outputs": [],
   "source": [
    "def calc_price_per_tsubo(price_arr_values, area_arr_values):\n",
    "    assert len(price_arr_values) == len(area_arr_values)\n",
    "    return_arr = np.zeros([len(price_arr_values), ], dtype=np.float64)\n",
    "    for i in range(len(price_arr_values)):\n",
    "        try:\n",
    "            float_area = float(area_arr_values[i])\n",
    "            float_price = float(price_arr_values[i])\n",
    "            return_arr[i] = float_price / (float_area * 0.3025)\n",
    "        except Exception as err:\n",
    "#             logger.debug(err)\n",
    "            return_arr[i] = np.nan\n",
    "    return return_arr"
   ]
  },
  {
   "cell_type": "code",
   "execution_count": null,
   "metadata": {
    "collapsed": false,
    "scrolled": true
   },
   "outputs": [],
   "source": [
    "df_webland_oita[\"price_per_tsubo\"] = calc_price_per_tsubo(df_webland_oita[\"取引価格（総額）\"].values,\n",
    "                                                               df_webland_oita[\"面積（㎡）\"].values)\n",
    "df_webland_oita.describe()"
   ]
  },
  {
   "cell_type": "code",
   "execution_count": null,
   "metadata": {
    "collapsed": false,
    "scrolled": true
   },
   "outputs": [],
   "source": [
    "seaborn.distplot(df_webland_oita[\"price_per_tsubo\"].dropna().values, kde=False, rug=True);"
   ]
  },
  {
   "cell_type": "markdown",
   "metadata": {},
   "source": [
    "飛び抜けて高い値がいくつかあるので median で市町村コードで集計をかける"
   ]
  },
  {
   "cell_type": "code",
   "execution_count": null,
   "metadata": {
    "collapsed": false
   },
   "outputs": [],
   "source": [
    "df_oita_median_by_city = df_webland_oita.groupby(\"市区町村コード\").median()\n"
   ]
  },
  {
   "cell_type": "markdown",
   "metadata": {},
   "source": [
    "folium 0.2.1 でのバグのため、キーとなる列を文字列にする。"
   ]
  },
  {
   "cell_type": "code",
   "execution_count": null,
   "metadata": {
    "collapsed": true
   },
   "outputs": [],
   "source": [
    "df_oita_median_by_city[\"city_code\"] = np.array([\"M\"+str(x) for x in df_oita_median_by_city.index.values])\n",
    "df_oita_median_by_city.index = np.array([\"M\"+str(x) for x in df_oita_median_by_city.index.values])"
   ]
  },
  {
   "cell_type": "code",
   "execution_count": null,
   "metadata": {
    "collapsed": false
   },
   "outputs": [],
   "source": [
    "df_oita_median_by_city"
   ]
  },
  {
   "cell_type": "code",
   "execution_count": null,
   "metadata": {
    "collapsed": false
   },
   "outputs": [],
   "source": [
    "seaborn.regplot(x=\"坪単価\", y=\"price_per_tsubo\", data=df_oita_median_by_city)"
   ]
  },
  {
   "cell_type": "code",
   "execution_count": null,
   "metadata": {
    "collapsed": false
   },
   "outputs": [],
   "source": [
    "seaborn.distplot(df_oita_median_by_city[\"price_per_tsubo\"].dropna().values, kde=False, rug=True);"
   ]
  },
  {
   "cell_type": "markdown",
   "metadata": {},
   "source": [
    "### using dataframe and geojson visualization"
   ]
  },
  {
   "cell_type": "code",
   "execution_count": null,
   "metadata": {
    "collapsed": false,
    "scrolled": true
   },
   "outputs": [],
   "source": [
    "# map作成\n",
    "m = folium.Map(location=[33.2382026, 131.612535], zoom_start=8)\n",
    "\n",
    "# m.geo_json(geo_path=intermediate_geojson_file, data=df_oita_median_by_city,  # folium 0.1.x\n",
    "m.choropleth(geo_path=intermediate_geojson_file, data=df_oita_median_by_city,\n",
    "    columns=['city_code', 'price_per_tsubo'],\n",
    "    key_on='feature.properties.N03_007',\n",
    "    threshold_scale=[5000, 10000, 25000, 40000, 150000],\n",
    "    fill_color='BuPu', reset=True,\n",
    "    legend_name='price_per_tsubo')\n",
    "\n",
    "# code using my `inline_map()` is available at follium 0.1.x\n",
    "# inline_map(m)\n",
    "\n",
    "m"
   ]
  }
 ],
 "metadata": {
  "kernelspec": {
   "display_name": "Python 3",
   "language": "python",
   "name": "python3"
  },
  "language_info": {
   "codemirror_mode": {
    "name": "ipython",
    "version": 3
   },
   "file_extension": ".py",
   "mimetype": "text/x-python",
   "name": "python",
   "nbconvert_exporter": "python",
   "pygments_lexer": "ipython3",
   "version": "3.5.1"
  }
 },
 "nbformat": 4,
 "nbformat_minor": 0
}
